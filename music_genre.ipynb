{
  "cells": [
    {
      "cell_type": "markdown",
      "metadata": {
        "id": "view-in-github",
        "colab_type": "text"
      },
      "source": [
        "<a href=\"https://colab.research.google.com/github/ReemJbily/Music-Genre-Classification/blob/main/music_genre.ipynb\" target=\"_parent\"><img src=\"https://colab.research.google.com/assets/colab-badge.svg\" alt=\"Open In Colab\"/></a>"
      ]
    },
    {
      "cell_type": "markdown",
      "metadata": {
        "id": "H42vA1em_oIj"
      },
      "source": [
        "#Import Libraries"
      ]
    },
    {
      "cell_type": "code",
      "execution_count": null,
      "metadata": {
        "id": "LZV0eZ8_8l4w"
      },
      "outputs": [],
      "source": [
        "import numpy as np\n",
        "import pandas as pd\n",
        "import matplotlib.pyplot as plt\n",
        "%matplotlib inline\n",
        "import seaborn as sns\n",
        "\n",
        "import math\n",
        "from sklearn.preprocessing import OrdinalEncoder,LabelEncoder\n",
        "from sklearn.model_selection import train_test_split\n",
        "from sklearn.impute import SimpleImputer\n",
        "from sklearn.preprocessing import OrdinalEncoder\n",
        "from sklearn.base import BaseEstimator, TransformerMixin\n",
        "from sklearn.pipeline import Pipeline\n",
        "from sklearn.preprocessing import StandardScaler,FunctionTransformer\n",
        "from sklearn.compose import ColumnTransformer\n",
        "\n",
        "\n",
        "from sklearn.linear_model import LogisticRegression,Lasso,RidgeClassifier\n",
        "from sklearn.neighbors import KNeighborsClassifier\n",
        "from sklearn.ensemble import RandomForestClassifier,GradientBoostingClassifier,VotingClassifier, StackingClassifier\n",
        "from sklearn.ensemble import AdaBoostClassifier\n",
        "from xgboost import XGBClassifier\n",
        "from sklearn.linear_model import SGDClassifier\n",
        "\n",
        "\n",
        "\n",
        "from sklearn.metrics import ConfusionMatrixDisplay\n",
        "from sklearn.metrics import precision_score, recall_score,f1_score\n",
        "from sklearn.metrics import accuracy_score\n",
        "\n",
        "from sklearn.model_selection import RepeatedStratifiedKFold\n",
        "from sklearn.model_selection import GridSearchCV\n",
        "from joblib import dump, load\n",
        "\n",
        "from sklearn.model_selection import cross_val_score,cross_val_predict\n",
        "from sklearn.ensemble import StackingClassifier\n",
        "\n",
        "from imblearn.over_sampling import SMOTE\n",
        "from imblearn.under_sampling import RandomUnderSampler\n",
        "from sklearn.preprocessing import MinMaxScaler\n",
        "\n",
        "from sklearn.preprocessing import PowerTransformer, QuantileTransformer\n",
        "from scipy import stats"
      ]
    },
    {
      "cell_type": "markdown",
      "metadata": {
        "id": "mkbIhhh0Axyb"
      },
      "source": [
        "#Import Data"
      ]
    },
    {
      "cell_type": "code",
      "execution_count": null,
      "metadata": {
        "id": "S3j_5ZTwAxGx"
      },
      "outputs": [],
      "source": [
        "train=pd.read_csv('/content/drive/MyDrive/INternship/grad project2/train.csv')\n",
        "test=pd.read_csv('/content/drive/MyDrive/INternship/grad project2/test.csv')"
      ]
    },
    {
      "cell_type": "markdown",
      "metadata": {
        "id": "HbtwC67cBtz6"
      },
      "source": [
        "#Data Analysis"
      ]
    },
    {
      "cell_type": "code",
      "execution_count": null,
      "metadata": {
        "colab": {
          "base_uri": "https://localhost:8080/"
        },
        "id": "NxKn-w9SBsCL",
        "outputId": "bdc171f2-2a20-4dbc-ff20-422011f12985"
      },
      "outputs": [
        {
          "output_type": "stream",
          "name": "stdout",
          "text": [
            "the train data has 18 columns and 9412 rows\n",
            "the test data has 17 columns and 3600 rows\n"
          ]
        }
      ],
      "source": [
        "print('the train data has {} columns and {} rows'.format(train.shape[1],train.shape[0]))\n",
        "print('the test data has {} columns and {} rows'.format(test.shape[1],test.shape[0]))"
      ]
    },
    {
      "cell_type": "code",
      "execution_count": null,
      "metadata": {
        "id": "Hjmee3jRDyLz",
        "colab": {
          "base_uri": "https://localhost:8080/"
        },
        "outputId": "164cd3d4-4d25-4deb-aa38-1bd745dd7ac9"
      },
      "outputs": [
        {
          "output_type": "stream",
          "name": "stdout",
          "text": [
            "<class 'pandas.core.frame.DataFrame'>\n",
            "Int64Index: 9412 entries, 1 to 14395\n",
            "Data columns (total 18 columns):\n",
            " #   Column              Non-Null Count  Dtype  \n",
            "---  ------              --------------  -----  \n",
            " 0   Id                  9412 non-null   int64  \n",
            " 1   Artist Name         9412 non-null   object \n",
            " 2   Track Name          9412 non-null   object \n",
            " 3   Popularity          9412 non-null   float64\n",
            " 4   danceability        9412 non-null   float64\n",
            " 5   energy              9412 non-null   float64\n",
            " 6   key                 9412 non-null   float64\n",
            " 7   loudness            9412 non-null   float64\n",
            " 8   mode                9412 non-null   int64  \n",
            " 9   speechiness         9412 non-null   float64\n",
            " 10  acousticness        9412 non-null   float64\n",
            " 11  instrumentalness    9412 non-null   float64\n",
            " 12  liveness            9412 non-null   float64\n",
            " 13  valence             9412 non-null   float64\n",
            " 14  tempo               9412 non-null   float64\n",
            " 15  duration_in min/ms  9412 non-null   float64\n",
            " 16  time_signature      9412 non-null   int64  \n",
            " 17  Class               9412 non-null   int64  \n",
            "dtypes: float64(12), int64(4), object(2)\n",
            "memory usage: 1.4+ MB\n"
          ]
        }
      ],
      "source": [
        "train.info()"
      ]
    },
    {
      "cell_type": "code",
      "execution_count": null,
      "metadata": {
        "id": "s2qXj42nDsyD",
        "colab": {
          "base_uri": "https://localhost:8080/"
        },
        "outputId": "182d3e01-4251-4623-880e-610cb0d16f9f"
      },
      "outputs": [
        {
          "output_type": "execute_result",
          "data": {
            "text/plain": [
              "                 Id   Popularity  danceability       energy          key  \\\n",
              "count   9412.000000  9412.000000   9412.000000  9412.000000  9412.000000   \n",
              "mean    7182.309286    43.168721      0.524349     0.669794     5.972907   \n",
              "std     4175.636870    16.566433      0.165417     0.243421     3.167315   \n",
              "min        2.000000     1.000000      0.064400     0.001240     1.000000   \n",
              "25%     3557.750000    32.000000      0.413000     0.510750     3.000000   \n",
              "50%     7166.500000    43.000000      0.526000     0.716000     6.000000   \n",
              "75%    10795.250000    54.000000      0.636000     0.876250     9.000000   \n",
              "max    14396.000000    98.000000      0.989000     1.000000    11.000000   \n",
              "\n",
              "          loudness         mode  speechiness  acousticness  instrumentalness  \\\n",
              "count  9412.000000  9412.000000  9412.000000   9412.000000       9412.000000   \n",
              "mean     -8.211778     0.625797     0.071122      0.239737          0.179897   \n",
              "std       4.267179     0.483942     0.068123      0.319015          0.304346   \n",
              "min     -36.214000     0.000000     0.022500      0.000000          0.000001   \n",
              "25%     -10.005500     0.000000     0.034600      0.001820          0.000093   \n",
              "50%      -7.309000     1.000000     0.046100      0.056850          0.004310   \n",
              "75%      -5.311000     1.000000     0.076500      0.419000          0.211000   \n",
              "max       1.342000     1.000000     0.935000      0.996000          0.996000   \n",
              "\n",
              "          liveness      valence        tempo  duration_in min/ms  \\\n",
              "count  9412.000000  9412.000000  9412.000000        9.412000e+03   \n",
              "mean      0.194727     0.468743   123.063930        2.124931e+05   \n",
              "std       0.159714     0.244040    29.449393        1.153708e+05   \n",
              "min       0.011900     0.021500    30.557000        5.016500e-01   \n",
              "25%       0.096700     0.270000   100.012750        1.752262e+05   \n",
              "50%       0.127000     0.458000   120.061500        2.174910e+05   \n",
              "75%       0.253250     0.658000   141.907000        2.633570e+05   \n",
              "max       0.992000     0.980000   217.416000        1.477187e+06   \n",
              "\n",
              "       time_signature        Class  \n",
              "count     9412.000000  9412.000000  \n",
              "mean         3.915002     6.629941  \n",
              "std          0.377904     3.246277  \n",
              "min          1.000000     0.000000  \n",
              "25%          4.000000     5.000000  \n",
              "50%          4.000000     8.000000  \n",
              "75%          4.000000    10.000000  \n",
              "max          5.000000    10.000000  "
            ],
            "text/html": [
              "\n",
              "\n",
              "  <div id=\"df-42ab2edf-85ce-4acd-902f-51a66c41a1a1\">\n",
              "    <div class=\"colab-df-container\">\n",
              "      <div>\n",
              "<style scoped>\n",
              "    .dataframe tbody tr th:only-of-type {\n",
              "        vertical-align: middle;\n",
              "    }\n",
              "\n",
              "    .dataframe tbody tr th {\n",
              "        vertical-align: top;\n",
              "    }\n",
              "\n",
              "    .dataframe thead th {\n",
              "        text-align: right;\n",
              "    }\n",
              "</style>\n",
              "<table border=\"1\" class=\"dataframe\">\n",
              "  <thead>\n",
              "    <tr style=\"text-align: right;\">\n",
              "      <th></th>\n",
              "      <th>Id</th>\n",
              "      <th>Popularity</th>\n",
              "      <th>danceability</th>\n",
              "      <th>energy</th>\n",
              "      <th>key</th>\n",
              "      <th>loudness</th>\n",
              "      <th>mode</th>\n",
              "      <th>speechiness</th>\n",
              "      <th>acousticness</th>\n",
              "      <th>instrumentalness</th>\n",
              "      <th>liveness</th>\n",
              "      <th>valence</th>\n",
              "      <th>tempo</th>\n",
              "      <th>duration_in min/ms</th>\n",
              "      <th>time_signature</th>\n",
              "      <th>Class</th>\n",
              "    </tr>\n",
              "  </thead>\n",
              "  <tbody>\n",
              "    <tr>\n",
              "      <th>count</th>\n",
              "      <td>9412.000000</td>\n",
              "      <td>9412.000000</td>\n",
              "      <td>9412.000000</td>\n",
              "      <td>9412.000000</td>\n",
              "      <td>9412.000000</td>\n",
              "      <td>9412.000000</td>\n",
              "      <td>9412.000000</td>\n",
              "      <td>9412.000000</td>\n",
              "      <td>9412.000000</td>\n",
              "      <td>9412.000000</td>\n",
              "      <td>9412.000000</td>\n",
              "      <td>9412.000000</td>\n",
              "      <td>9412.000000</td>\n",
              "      <td>9.412000e+03</td>\n",
              "      <td>9412.000000</td>\n",
              "      <td>9412.000000</td>\n",
              "    </tr>\n",
              "    <tr>\n",
              "      <th>mean</th>\n",
              "      <td>7182.309286</td>\n",
              "      <td>43.168721</td>\n",
              "      <td>0.524349</td>\n",
              "      <td>0.669794</td>\n",
              "      <td>5.972907</td>\n",
              "      <td>-8.211778</td>\n",
              "      <td>0.625797</td>\n",
              "      <td>0.071122</td>\n",
              "      <td>0.239737</td>\n",
              "      <td>0.179897</td>\n",
              "      <td>0.194727</td>\n",
              "      <td>0.468743</td>\n",
              "      <td>123.063930</td>\n",
              "      <td>2.124931e+05</td>\n",
              "      <td>3.915002</td>\n",
              "      <td>6.629941</td>\n",
              "    </tr>\n",
              "    <tr>\n",
              "      <th>std</th>\n",
              "      <td>4175.636870</td>\n",
              "      <td>16.566433</td>\n",
              "      <td>0.165417</td>\n",
              "      <td>0.243421</td>\n",
              "      <td>3.167315</td>\n",
              "      <td>4.267179</td>\n",
              "      <td>0.483942</td>\n",
              "      <td>0.068123</td>\n",
              "      <td>0.319015</td>\n",
              "      <td>0.304346</td>\n",
              "      <td>0.159714</td>\n",
              "      <td>0.244040</td>\n",
              "      <td>29.449393</td>\n",
              "      <td>1.153708e+05</td>\n",
              "      <td>0.377904</td>\n",
              "      <td>3.246277</td>\n",
              "    </tr>\n",
              "    <tr>\n",
              "      <th>min</th>\n",
              "      <td>2.000000</td>\n",
              "      <td>1.000000</td>\n",
              "      <td>0.064400</td>\n",
              "      <td>0.001240</td>\n",
              "      <td>1.000000</td>\n",
              "      <td>-36.214000</td>\n",
              "      <td>0.000000</td>\n",
              "      <td>0.022500</td>\n",
              "      <td>0.000000</td>\n",
              "      <td>0.000001</td>\n",
              "      <td>0.011900</td>\n",
              "      <td>0.021500</td>\n",
              "      <td>30.557000</td>\n",
              "      <td>5.016500e-01</td>\n",
              "      <td>1.000000</td>\n",
              "      <td>0.000000</td>\n",
              "    </tr>\n",
              "    <tr>\n",
              "      <th>25%</th>\n",
              "      <td>3557.750000</td>\n",
              "      <td>32.000000</td>\n",
              "      <td>0.413000</td>\n",
              "      <td>0.510750</td>\n",
              "      <td>3.000000</td>\n",
              "      <td>-10.005500</td>\n",
              "      <td>0.000000</td>\n",
              "      <td>0.034600</td>\n",
              "      <td>0.001820</td>\n",
              "      <td>0.000093</td>\n",
              "      <td>0.096700</td>\n",
              "      <td>0.270000</td>\n",
              "      <td>100.012750</td>\n",
              "      <td>1.752262e+05</td>\n",
              "      <td>4.000000</td>\n",
              "      <td>5.000000</td>\n",
              "    </tr>\n",
              "    <tr>\n",
              "      <th>50%</th>\n",
              "      <td>7166.500000</td>\n",
              "      <td>43.000000</td>\n",
              "      <td>0.526000</td>\n",
              "      <td>0.716000</td>\n",
              "      <td>6.000000</td>\n",
              "      <td>-7.309000</td>\n",
              "      <td>1.000000</td>\n",
              "      <td>0.046100</td>\n",
              "      <td>0.056850</td>\n",
              "      <td>0.004310</td>\n",
              "      <td>0.127000</td>\n",
              "      <td>0.458000</td>\n",
              "      <td>120.061500</td>\n",
              "      <td>2.174910e+05</td>\n",
              "      <td>4.000000</td>\n",
              "      <td>8.000000</td>\n",
              "    </tr>\n",
              "    <tr>\n",
              "      <th>75%</th>\n",
              "      <td>10795.250000</td>\n",
              "      <td>54.000000</td>\n",
              "      <td>0.636000</td>\n",
              "      <td>0.876250</td>\n",
              "      <td>9.000000</td>\n",
              "      <td>-5.311000</td>\n",
              "      <td>1.000000</td>\n",
              "      <td>0.076500</td>\n",
              "      <td>0.419000</td>\n",
              "      <td>0.211000</td>\n",
              "      <td>0.253250</td>\n",
              "      <td>0.658000</td>\n",
              "      <td>141.907000</td>\n",
              "      <td>2.633570e+05</td>\n",
              "      <td>4.000000</td>\n",
              "      <td>10.000000</td>\n",
              "    </tr>\n",
              "    <tr>\n",
              "      <th>max</th>\n",
              "      <td>14396.000000</td>\n",
              "      <td>98.000000</td>\n",
              "      <td>0.989000</td>\n",
              "      <td>1.000000</td>\n",
              "      <td>11.000000</td>\n",
              "      <td>1.342000</td>\n",
              "      <td>1.000000</td>\n",
              "      <td>0.935000</td>\n",
              "      <td>0.996000</td>\n",
              "      <td>0.996000</td>\n",
              "      <td>0.992000</td>\n",
              "      <td>0.980000</td>\n",
              "      <td>217.416000</td>\n",
              "      <td>1.477187e+06</td>\n",
              "      <td>5.000000</td>\n",
              "      <td>10.000000</td>\n",
              "    </tr>\n",
              "  </tbody>\n",
              "</table>\n",
              "</div>\n",
              "      <button class=\"colab-df-convert\" onclick=\"convertToInteractive('df-42ab2edf-85ce-4acd-902f-51a66c41a1a1')\"\n",
              "              title=\"Convert this dataframe to an interactive table.\"\n",
              "              style=\"display:none;\">\n",
              "\n",
              "  <svg xmlns=\"http://www.w3.org/2000/svg\" height=\"24px\"viewBox=\"0 0 24 24\"\n",
              "       width=\"24px\">\n",
              "    <path d=\"M0 0h24v24H0V0z\" fill=\"none\"/>\n",
              "    <path d=\"M18.56 5.44l.94 2.06.94-2.06 2.06-.94-2.06-.94-.94-2.06-.94 2.06-2.06.94zm-11 1L8.5 8.5l.94-2.06 2.06-.94-2.06-.94L8.5 2.5l-.94 2.06-2.06.94zm10 10l.94 2.06.94-2.06 2.06-.94-2.06-.94-.94-2.06-.94 2.06-2.06.94z\"/><path d=\"M17.41 7.96l-1.37-1.37c-.4-.4-.92-.59-1.43-.59-.52 0-1.04.2-1.43.59L10.3 9.45l-7.72 7.72c-.78.78-.78 2.05 0 2.83L4 21.41c.39.39.9.59 1.41.59.51 0 1.02-.2 1.41-.59l7.78-7.78 2.81-2.81c.8-.78.8-2.07 0-2.86zM5.41 20L4 18.59l7.72-7.72 1.47 1.35L5.41 20z\"/>\n",
              "  </svg>\n",
              "      </button>\n",
              "\n",
              "\n",
              "\n",
              "    <div id=\"df-b4216fc1-a68f-4c42-8480-982846522fab\">\n",
              "      <button class=\"colab-df-quickchart\" onclick=\"quickchart('df-b4216fc1-a68f-4c42-8480-982846522fab')\"\n",
              "              title=\"Suggest charts.\"\n",
              "              style=\"display:none;\">\n",
              "\n",
              "<svg xmlns=\"http://www.w3.org/2000/svg\" height=\"24px\"viewBox=\"0 0 24 24\"\n",
              "     width=\"24px\">\n",
              "    <g>\n",
              "        <path d=\"M19 3H5c-1.1 0-2 .9-2 2v14c0 1.1.9 2 2 2h14c1.1 0 2-.9 2-2V5c0-1.1-.9-2-2-2zM9 17H7v-7h2v7zm4 0h-2V7h2v10zm4 0h-2v-4h2v4z\"/>\n",
              "    </g>\n",
              "</svg>\n",
              "      </button>\n",
              "    </div>\n",
              "\n",
              "<style>\n",
              "  .colab-df-quickchart {\n",
              "    background-color: #E8F0FE;\n",
              "    border: none;\n",
              "    border-radius: 50%;\n",
              "    cursor: pointer;\n",
              "    display: none;\n",
              "    fill: #1967D2;\n",
              "    height: 32px;\n",
              "    padding: 0 0 0 0;\n",
              "    width: 32px;\n",
              "  }\n",
              "\n",
              "  .colab-df-quickchart:hover {\n",
              "    background-color: #E2EBFA;\n",
              "    box-shadow: 0px 1px 2px rgba(60, 64, 67, 0.3), 0px 1px 3px 1px rgba(60, 64, 67, 0.15);\n",
              "    fill: #174EA6;\n",
              "  }\n",
              "\n",
              "  [theme=dark] .colab-df-quickchart {\n",
              "    background-color: #3B4455;\n",
              "    fill: #D2E3FC;\n",
              "  }\n",
              "\n",
              "  [theme=dark] .colab-df-quickchart:hover {\n",
              "    background-color: #434B5C;\n",
              "    box-shadow: 0px 1px 3px 1px rgba(0, 0, 0, 0.15);\n",
              "    filter: drop-shadow(0px 1px 2px rgba(0, 0, 0, 0.3));\n",
              "    fill: #FFFFFF;\n",
              "  }\n",
              "</style>\n",
              "\n",
              "    <script>\n",
              "      async function quickchart(key) {\n",
              "        const containerElement = document.querySelector('#' + key);\n",
              "        const charts = await google.colab.kernel.invokeFunction(\n",
              "            'suggestCharts', [key], {});\n",
              "      }\n",
              "    </script>\n",
              "\n",
              "      <script>\n",
              "\n",
              "function displayQuickchartButton(domScope) {\n",
              "  let quickchartButtonEl =\n",
              "    domScope.querySelector('#df-b4216fc1-a68f-4c42-8480-982846522fab button.colab-df-quickchart');\n",
              "  quickchartButtonEl.style.display =\n",
              "    google.colab.kernel.accessAllowed ? 'block' : 'none';\n",
              "}\n",
              "\n",
              "        displayQuickchartButton(document);\n",
              "      </script>\n",
              "      <style>\n",
              "    .colab-df-container {\n",
              "      display:flex;\n",
              "      flex-wrap:wrap;\n",
              "      gap: 12px;\n",
              "    }\n",
              "\n",
              "    .colab-df-convert {\n",
              "      background-color: #E8F0FE;\n",
              "      border: none;\n",
              "      border-radius: 50%;\n",
              "      cursor: pointer;\n",
              "      display: none;\n",
              "      fill: #1967D2;\n",
              "      height: 32px;\n",
              "      padding: 0 0 0 0;\n",
              "      width: 32px;\n",
              "    }\n",
              "\n",
              "    .colab-df-convert:hover {\n",
              "      background-color: #E2EBFA;\n",
              "      box-shadow: 0px 1px 2px rgba(60, 64, 67, 0.3), 0px 1px 3px 1px rgba(60, 64, 67, 0.15);\n",
              "      fill: #174EA6;\n",
              "    }\n",
              "\n",
              "    [theme=dark] .colab-df-convert {\n",
              "      background-color: #3B4455;\n",
              "      fill: #D2E3FC;\n",
              "    }\n",
              "\n",
              "    [theme=dark] .colab-df-convert:hover {\n",
              "      background-color: #434B5C;\n",
              "      box-shadow: 0px 1px 3px 1px rgba(0, 0, 0, 0.15);\n",
              "      filter: drop-shadow(0px 1px 2px rgba(0, 0, 0, 0.3));\n",
              "      fill: #FFFFFF;\n",
              "    }\n",
              "  </style>\n",
              "\n",
              "      <script>\n",
              "        const buttonEl =\n",
              "          document.querySelector('#df-42ab2edf-85ce-4acd-902f-51a66c41a1a1 button.colab-df-convert');\n",
              "        buttonEl.style.display =\n",
              "          google.colab.kernel.accessAllowed ? 'block' : 'none';\n",
              "\n",
              "        async function convertToInteractive(key) {\n",
              "          const element = document.querySelector('#df-42ab2edf-85ce-4acd-902f-51a66c41a1a1');\n",
              "          const dataTable =\n",
              "            await google.colab.kernel.invokeFunction('convertToInteractive',\n",
              "                                                     [key], {});\n",
              "          if (!dataTable) return;\n",
              "\n",
              "          const docLinkHtml = 'Like what you see? Visit the ' +\n",
              "            '<a target=\"_blank\" href=https://colab.research.google.com/notebooks/data_table.ipynb>data table notebook</a>'\n",
              "            + ' to learn more about interactive tables.';\n",
              "          element.innerHTML = '';\n",
              "          dataTable['output_type'] = 'display_data';\n",
              "          await google.colab.output.renderOutput(dataTable, element);\n",
              "          const docLink = document.createElement('div');\n",
              "          docLink.innerHTML = docLinkHtml;\n",
              "          element.appendChild(docLink);\n",
              "        }\n",
              "      </script>\n",
              "    </div>\n",
              "  </div>\n"
            ]
          },
          "metadata": {},
          "execution_count": 10
        }
      ],
      "source": [
        "train.describe()"
      ]
    },
    {
      "cell_type": "code",
      "execution_count": null,
      "metadata": {
        "id": "LR7sUSxLDgMA",
        "colab": {
          "base_uri": "https://localhost:8080/"
        },
        "outputId": "6ce04058-df59-4f7d-95c7-d4a98383a256"
      },
      "outputs": [
        {
          "output_type": "execute_result",
          "data": {
            "text/plain": [
              "   Id       Artist Name                               Track Name  Popularity  \\\n",
              "1   2    The Black Keys                          Howlin' for You        67.0   \n",
              "5   6              Beck  Fuckin With My Head (Mountain Dew Rock)        38.0   \n",
              "6   7  Shadow and Light                                     Blue        11.0   \n",
              "7   8  Within The Ruins                              Devil In Me        45.0   \n",
              "9  10         Day Sulan                                   Bailar        58.0   \n",
              "\n",
              "   danceability  energy   key  loudness  mode  speechiness  acousticness  \\\n",
              "1         0.725   0.747  11.0    -5.545     1       0.0876      0.027200   \n",
              "5         0.657   0.813   7.0    -7.861     1       0.2160      0.008340   \n",
              "6         0.658   0.431   1.0   -12.718     0       0.0300      0.615000   \n",
              "7         0.441   0.994   7.0    -2.934     1       0.2390      0.000073   \n",
              "9         0.852   0.535   7.0    -5.940     0       0.0896      0.439000   \n",
              "\n",
              "   instrumentalness  liveness  valence    tempo  duration_in min/ms  \\\n",
              "1          0.046800    0.1040   0.3800  132.921       191956.000000   \n",
              "5          0.049200    0.2080   0.5890   82.035       219587.000000   \n",
              "6          0.292000    0.0902   0.5280  132.045            3.893933   \n",
              "7          0.000147    0.3820   0.0478  139.931       213125.000000   \n",
              "9          0.000082    0.2460   0.4830  103.007       205056.000000   \n",
              "\n",
              "   time_signature  Class  \n",
              "1               4      6  \n",
              "5               4     10  \n",
              "6               5      0  \n",
              "7               4      8  \n",
              "9               4      5  "
            ],
            "text/html": [
              "\n",
              "\n",
              "  <div id=\"df-e1b0fedc-b2a4-4824-b651-898485613c4b\">\n",
              "    <div class=\"colab-df-container\">\n",
              "      <div>\n",
              "<style scoped>\n",
              "    .dataframe tbody tr th:only-of-type {\n",
              "        vertical-align: middle;\n",
              "    }\n",
              "\n",
              "    .dataframe tbody tr th {\n",
              "        vertical-align: top;\n",
              "    }\n",
              "\n",
              "    .dataframe thead th {\n",
              "        text-align: right;\n",
              "    }\n",
              "</style>\n",
              "<table border=\"1\" class=\"dataframe\">\n",
              "  <thead>\n",
              "    <tr style=\"text-align: right;\">\n",
              "      <th></th>\n",
              "      <th>Id</th>\n",
              "      <th>Artist Name</th>\n",
              "      <th>Track Name</th>\n",
              "      <th>Popularity</th>\n",
              "      <th>danceability</th>\n",
              "      <th>energy</th>\n",
              "      <th>key</th>\n",
              "      <th>loudness</th>\n",
              "      <th>mode</th>\n",
              "      <th>speechiness</th>\n",
              "      <th>acousticness</th>\n",
              "      <th>instrumentalness</th>\n",
              "      <th>liveness</th>\n",
              "      <th>valence</th>\n",
              "      <th>tempo</th>\n",
              "      <th>duration_in min/ms</th>\n",
              "      <th>time_signature</th>\n",
              "      <th>Class</th>\n",
              "    </tr>\n",
              "  </thead>\n",
              "  <tbody>\n",
              "    <tr>\n",
              "      <th>1</th>\n",
              "      <td>2</td>\n",
              "      <td>The Black Keys</td>\n",
              "      <td>Howlin' for You</td>\n",
              "      <td>67.0</td>\n",
              "      <td>0.725</td>\n",
              "      <td>0.747</td>\n",
              "      <td>11.0</td>\n",
              "      <td>-5.545</td>\n",
              "      <td>1</td>\n",
              "      <td>0.0876</td>\n",
              "      <td>0.027200</td>\n",
              "      <td>0.046800</td>\n",
              "      <td>0.1040</td>\n",
              "      <td>0.3800</td>\n",
              "      <td>132.921</td>\n",
              "      <td>191956.000000</td>\n",
              "      <td>4</td>\n",
              "      <td>6</td>\n",
              "    </tr>\n",
              "    <tr>\n",
              "      <th>5</th>\n",
              "      <td>6</td>\n",
              "      <td>Beck</td>\n",
              "      <td>Fuckin With My Head (Mountain Dew Rock)</td>\n",
              "      <td>38.0</td>\n",
              "      <td>0.657</td>\n",
              "      <td>0.813</td>\n",
              "      <td>7.0</td>\n",
              "      <td>-7.861</td>\n",
              "      <td>1</td>\n",
              "      <td>0.2160</td>\n",
              "      <td>0.008340</td>\n",
              "      <td>0.049200</td>\n",
              "      <td>0.2080</td>\n",
              "      <td>0.5890</td>\n",
              "      <td>82.035</td>\n",
              "      <td>219587.000000</td>\n",
              "      <td>4</td>\n",
              "      <td>10</td>\n",
              "    </tr>\n",
              "    <tr>\n",
              "      <th>6</th>\n",
              "      <td>7</td>\n",
              "      <td>Shadow and Light</td>\n",
              "      <td>Blue</td>\n",
              "      <td>11.0</td>\n",
              "      <td>0.658</td>\n",
              "      <td>0.431</td>\n",
              "      <td>1.0</td>\n",
              "      <td>-12.718</td>\n",
              "      <td>0</td>\n",
              "      <td>0.0300</td>\n",
              "      <td>0.615000</td>\n",
              "      <td>0.292000</td>\n",
              "      <td>0.0902</td>\n",
              "      <td>0.5280</td>\n",
              "      <td>132.045</td>\n",
              "      <td>3.893933</td>\n",
              "      <td>5</td>\n",
              "      <td>0</td>\n",
              "    </tr>\n",
              "    <tr>\n",
              "      <th>7</th>\n",
              "      <td>8</td>\n",
              "      <td>Within The Ruins</td>\n",
              "      <td>Devil In Me</td>\n",
              "      <td>45.0</td>\n",
              "      <td>0.441</td>\n",
              "      <td>0.994</td>\n",
              "      <td>7.0</td>\n",
              "      <td>-2.934</td>\n",
              "      <td>1</td>\n",
              "      <td>0.2390</td>\n",
              "      <td>0.000073</td>\n",
              "      <td>0.000147</td>\n",
              "      <td>0.3820</td>\n",
              "      <td>0.0478</td>\n",
              "      <td>139.931</td>\n",
              "      <td>213125.000000</td>\n",
              "      <td>4</td>\n",
              "      <td>8</td>\n",
              "    </tr>\n",
              "    <tr>\n",
              "      <th>9</th>\n",
              "      <td>10</td>\n",
              "      <td>Day Sulan</td>\n",
              "      <td>Bailar</td>\n",
              "      <td>58.0</td>\n",
              "      <td>0.852</td>\n",
              "      <td>0.535</td>\n",
              "      <td>7.0</td>\n",
              "      <td>-5.940</td>\n",
              "      <td>0</td>\n",
              "      <td>0.0896</td>\n",
              "      <td>0.439000</td>\n",
              "      <td>0.000082</td>\n",
              "      <td>0.2460</td>\n",
              "      <td>0.4830</td>\n",
              "      <td>103.007</td>\n",
              "      <td>205056.000000</td>\n",
              "      <td>4</td>\n",
              "      <td>5</td>\n",
              "    </tr>\n",
              "  </tbody>\n",
              "</table>\n",
              "</div>\n",
              "      <button class=\"colab-df-convert\" onclick=\"convertToInteractive('df-e1b0fedc-b2a4-4824-b651-898485613c4b')\"\n",
              "              title=\"Convert this dataframe to an interactive table.\"\n",
              "              style=\"display:none;\">\n",
              "\n",
              "  <svg xmlns=\"http://www.w3.org/2000/svg\" height=\"24px\"viewBox=\"0 0 24 24\"\n",
              "       width=\"24px\">\n",
              "    <path d=\"M0 0h24v24H0V0z\" fill=\"none\"/>\n",
              "    <path d=\"M18.56 5.44l.94 2.06.94-2.06 2.06-.94-2.06-.94-.94-2.06-.94 2.06-2.06.94zm-11 1L8.5 8.5l.94-2.06 2.06-.94-2.06-.94L8.5 2.5l-.94 2.06-2.06.94zm10 10l.94 2.06.94-2.06 2.06-.94-2.06-.94-.94-2.06-.94 2.06-2.06.94z\"/><path d=\"M17.41 7.96l-1.37-1.37c-.4-.4-.92-.59-1.43-.59-.52 0-1.04.2-1.43.59L10.3 9.45l-7.72 7.72c-.78.78-.78 2.05 0 2.83L4 21.41c.39.39.9.59 1.41.59.51 0 1.02-.2 1.41-.59l7.78-7.78 2.81-2.81c.8-.78.8-2.07 0-2.86zM5.41 20L4 18.59l7.72-7.72 1.47 1.35L5.41 20z\"/>\n",
              "  </svg>\n",
              "      </button>\n",
              "\n",
              "\n",
              "\n",
              "    <div id=\"df-69f7c159-af97-47a2-a455-a1c1b9ae1048\">\n",
              "      <button class=\"colab-df-quickchart\" onclick=\"quickchart('df-69f7c159-af97-47a2-a455-a1c1b9ae1048')\"\n",
              "              title=\"Suggest charts.\"\n",
              "              style=\"display:none;\">\n",
              "\n",
              "<svg xmlns=\"http://www.w3.org/2000/svg\" height=\"24px\"viewBox=\"0 0 24 24\"\n",
              "     width=\"24px\">\n",
              "    <g>\n",
              "        <path d=\"M19 3H5c-1.1 0-2 .9-2 2v14c0 1.1.9 2 2 2h14c1.1 0 2-.9 2-2V5c0-1.1-.9-2-2-2zM9 17H7v-7h2v7zm4 0h-2V7h2v10zm4 0h-2v-4h2v4z\"/>\n",
              "    </g>\n",
              "</svg>\n",
              "      </button>\n",
              "    </div>\n",
              "\n",
              "<style>\n",
              "  .colab-df-quickchart {\n",
              "    background-color: #E8F0FE;\n",
              "    border: none;\n",
              "    border-radius: 50%;\n",
              "    cursor: pointer;\n",
              "    display: none;\n",
              "    fill: #1967D2;\n",
              "    height: 32px;\n",
              "    padding: 0 0 0 0;\n",
              "    width: 32px;\n",
              "  }\n",
              "\n",
              "  .colab-df-quickchart:hover {\n",
              "    background-color: #E2EBFA;\n",
              "    box-shadow: 0px 1px 2px rgba(60, 64, 67, 0.3), 0px 1px 3px 1px rgba(60, 64, 67, 0.15);\n",
              "    fill: #174EA6;\n",
              "  }\n",
              "\n",
              "  [theme=dark] .colab-df-quickchart {\n",
              "    background-color: #3B4455;\n",
              "    fill: #D2E3FC;\n",
              "  }\n",
              "\n",
              "  [theme=dark] .colab-df-quickchart:hover {\n",
              "    background-color: #434B5C;\n",
              "    box-shadow: 0px 1px 3px 1px rgba(0, 0, 0, 0.15);\n",
              "    filter: drop-shadow(0px 1px 2px rgba(0, 0, 0, 0.3));\n",
              "    fill: #FFFFFF;\n",
              "  }\n",
              "</style>\n",
              "\n",
              "    <script>\n",
              "      async function quickchart(key) {\n",
              "        const containerElement = document.querySelector('#' + key);\n",
              "        const charts = await google.colab.kernel.invokeFunction(\n",
              "            'suggestCharts', [key], {});\n",
              "      }\n",
              "    </script>\n",
              "\n",
              "      <script>\n",
              "\n",
              "function displayQuickchartButton(domScope) {\n",
              "  let quickchartButtonEl =\n",
              "    domScope.querySelector('#df-69f7c159-af97-47a2-a455-a1c1b9ae1048 button.colab-df-quickchart');\n",
              "  quickchartButtonEl.style.display =\n",
              "    google.colab.kernel.accessAllowed ? 'block' : 'none';\n",
              "}\n",
              "\n",
              "        displayQuickchartButton(document);\n",
              "      </script>\n",
              "      <style>\n",
              "    .colab-df-container {\n",
              "      display:flex;\n",
              "      flex-wrap:wrap;\n",
              "      gap: 12px;\n",
              "    }\n",
              "\n",
              "    .colab-df-convert {\n",
              "      background-color: #E8F0FE;\n",
              "      border: none;\n",
              "      border-radius: 50%;\n",
              "      cursor: pointer;\n",
              "      display: none;\n",
              "      fill: #1967D2;\n",
              "      height: 32px;\n",
              "      padding: 0 0 0 0;\n",
              "      width: 32px;\n",
              "    }\n",
              "\n",
              "    .colab-df-convert:hover {\n",
              "      background-color: #E2EBFA;\n",
              "      box-shadow: 0px 1px 2px rgba(60, 64, 67, 0.3), 0px 1px 3px 1px rgba(60, 64, 67, 0.15);\n",
              "      fill: #174EA6;\n",
              "    }\n",
              "\n",
              "    [theme=dark] .colab-df-convert {\n",
              "      background-color: #3B4455;\n",
              "      fill: #D2E3FC;\n",
              "    }\n",
              "\n",
              "    [theme=dark] .colab-df-convert:hover {\n",
              "      background-color: #434B5C;\n",
              "      box-shadow: 0px 1px 3px 1px rgba(0, 0, 0, 0.15);\n",
              "      filter: drop-shadow(0px 1px 2px rgba(0, 0, 0, 0.3));\n",
              "      fill: #FFFFFF;\n",
              "    }\n",
              "  </style>\n",
              "\n",
              "      <script>\n",
              "        const buttonEl =\n",
              "          document.querySelector('#df-e1b0fedc-b2a4-4824-b651-898485613c4b button.colab-df-convert');\n",
              "        buttonEl.style.display =\n",
              "          google.colab.kernel.accessAllowed ? 'block' : 'none';\n",
              "\n",
              "        async function convertToInteractive(key) {\n",
              "          const element = document.querySelector('#df-e1b0fedc-b2a4-4824-b651-898485613c4b');\n",
              "          const dataTable =\n",
              "            await google.colab.kernel.invokeFunction('convertToInteractive',\n",
              "                                                     [key], {});\n",
              "          if (!dataTable) return;\n",
              "\n",
              "          const docLinkHtml = 'Like what you see? Visit the ' +\n",
              "            '<a target=\"_blank\" href=https://colab.research.google.com/notebooks/data_table.ipynb>data table notebook</a>'\n",
              "            + ' to learn more about interactive tables.';\n",
              "          element.innerHTML = '';\n",
              "          dataTable['output_type'] = 'display_data';\n",
              "          await google.colab.output.renderOutput(dataTable, element);\n",
              "          const docLink = document.createElement('div');\n",
              "          docLink.innerHTML = docLinkHtml;\n",
              "          element.appendChild(docLink);\n",
              "        }\n",
              "      </script>\n",
              "    </div>\n",
              "  </div>\n"
            ]
          },
          "metadata": {},
          "execution_count": 11
        }
      ],
      "source": [
        "train.head()"
      ]
    },
    {
      "cell_type": "code",
      "execution_count": null,
      "metadata": {
        "id": "Mru_vRxkEN2S",
        "colab": {
          "base_uri": "https://localhost:8080/"
        },
        "outputId": "cbb6a1bb-25c2-46b3-9feb-7b0f9b121df7"
      },
      "outputs": [
        {
          "output_type": "execute_result",
          "data": {
            "text/plain": [
              "Id                    0\n",
              "Artist Name           0\n",
              "Track Name            0\n",
              "Popularity            0\n",
              "danceability          0\n",
              "energy                0\n",
              "key                   0\n",
              "loudness              0\n",
              "mode                  0\n",
              "speechiness           0\n",
              "acousticness          0\n",
              "instrumentalness      0\n",
              "liveness              0\n",
              "valence               0\n",
              "tempo                 0\n",
              "duration_in min/ms    0\n",
              "time_signature        0\n",
              "Class                 0\n",
              "dtype: int64"
            ]
          },
          "metadata": {},
          "execution_count": 12
        }
      ],
      "source": [
        "train.isna().sum()"
      ]
    },
    {
      "cell_type": "code",
      "execution_count": null,
      "metadata": {
        "id": "XBxf7l2ZESgj"
      },
      "outputs": [],
      "source": [
        "#columns [popularity, key, instrumentalness ] has null values"
      ]
    },
    {
      "cell_type": "code",
      "execution_count": null,
      "metadata": {
        "id": "1ytk63WgEhL9"
      },
      "outputs": [],
      "source": [
        "train.fillna(-1.0,inplace=True)"
      ]
    },
    {
      "cell_type": "code",
      "execution_count": null,
      "metadata": {
        "colab": {
          "base_uri": "https://localhost:8080/"
        },
        "id": "cGb6XIXtLfeU",
        "outputId": "76d800a8-5d7e-4c71-f37c-ba8118a41eab"
      },
      "outputs": [
        {
          "output_type": "stream",
          "name": "stderr",
          "text": [
            "<ipython-input-13-f0a6cbf3cccd>:1: FutureWarning: The default value of numeric_only in DataFrame.corr is deprecated. In a future version, it will default to False. Select only valid columns or specify the value of numeric_only to silence this warning.\n",
            "  train.drop('Id',axis=1).corr()\n"
          ]
        },
        {
          "output_type": "execute_result",
          "data": {
            "text/plain": [
              "                    Popularity  danceability    energy       key  loudness  \\\n",
              "Popularity            1.000000      0.150423  0.056658  0.014157  0.107584   \n",
              "danceability          0.150423      1.000000 -0.091171  0.011338  0.043601   \n",
              "energy                0.056658     -0.091171  1.000000  0.027024  0.793044   \n",
              "key                   0.014157      0.011338  0.027024  1.000000  0.018124   \n",
              "loudness              0.107584      0.043601  0.793044  0.018124  1.000000   \n",
              "mode                  0.002349     -0.055355 -0.041969 -0.116908 -0.036329   \n",
              "speechiness          -0.005086      0.106994  0.180759  0.000031  0.124441   \n",
              "acousticness         -0.127827      0.023827 -0.758749 -0.017613 -0.643064   \n",
              "instrumentalness     -0.169138     -0.203031 -0.175861 -0.003804 -0.339755   \n",
              "liveness             -0.078768     -0.113663  0.197962  0.015359  0.118982   \n",
              "valence               0.057260      0.454353  0.215924  0.034677  0.185504   \n",
              "tempo                 0.004316     -0.176867  0.214956  0.018792  0.170358   \n",
              "duration_in min/ms    0.005262     -0.122413  0.254625  0.020355  0.206686   \n",
              "time_signature        0.073967      0.118958  0.138728  0.007664  0.115369   \n",
              "Class                 0.167202     -0.115610  0.217663  0.007158  0.160725   \n",
              "\n",
              "                        mode  speechiness  acousticness  instrumentalness  \\\n",
              "Popularity          0.002349    -0.005086     -0.127827         -0.169138   \n",
              "danceability       -0.055355     0.106994      0.023827         -0.203031   \n",
              "energy             -0.041969     0.180759     -0.758749         -0.175861   \n",
              "key                -0.116908     0.000031     -0.017613         -0.003804   \n",
              "loudness           -0.036329     0.124441     -0.643064         -0.339755   \n",
              "mode                1.000000    -0.042340      0.024950         -0.007763   \n",
              "speechiness        -0.042340     1.000000     -0.099593         -0.071010   \n",
              "acousticness        0.024950    -0.099593      1.000000          0.173870   \n",
              "instrumentalness   -0.007763    -0.071010      0.173870          1.000000   \n",
              "liveness           -0.018815     0.083939     -0.108914         -0.041942   \n",
              "valence            -0.006070     0.007973     -0.127934         -0.225034   \n",
              "tempo               0.013929     0.089371     -0.172389         -0.024161   \n",
              "duration_in min/ms -0.061291     0.008818     -0.350481         -0.000494   \n",
              "time_signature     -0.006021     0.038287     -0.142333         -0.069481   \n",
              "Class              -0.029513    -0.018164     -0.252490         -0.035133   \n",
              "\n",
              "                    liveness   valence     tempo  duration_in min/ms  \\\n",
              "Popularity         -0.078768  0.057260  0.004316            0.005262   \n",
              "danceability       -0.113663  0.454353 -0.176867           -0.122413   \n",
              "energy              0.197962  0.215924  0.214956            0.254625   \n",
              "key                 0.015359  0.034677  0.018792            0.020355   \n",
              "loudness            0.118982  0.185504  0.170358            0.206686   \n",
              "mode               -0.018815 -0.006070  0.013929           -0.061291   \n",
              "speechiness         0.083939  0.007973  0.089371            0.008818   \n",
              "acousticness       -0.108914 -0.127934 -0.172389           -0.350481   \n",
              "instrumentalness   -0.041942 -0.225034 -0.024161           -0.000494   \n",
              "liveness            1.000000  0.020828  0.027629            0.060140   \n",
              "valence             0.020828  1.000000  0.061179           -0.101274   \n",
              "tempo               0.027629  0.061179  1.000000            0.044004   \n",
              "duration_in min/ms  0.060140 -0.101274  0.044004            1.000000   \n",
              "time_signature      0.006907  0.097350 -0.033376            0.014090   \n",
              "Class               0.039757 -0.095338  0.033284            0.202740   \n",
              "\n",
              "                    time_signature     Class  \n",
              "Popularity                0.073967  0.167202  \n",
              "danceability              0.118958 -0.115610  \n",
              "energy                    0.138728  0.217663  \n",
              "key                       0.007664  0.007158  \n",
              "loudness                  0.115369  0.160725  \n",
              "mode                     -0.006021 -0.029513  \n",
              "speechiness               0.038287 -0.018164  \n",
              "acousticness             -0.142333 -0.252490  \n",
              "instrumentalness         -0.069481 -0.035133  \n",
              "liveness                  0.006907  0.039757  \n",
              "valence                   0.097350 -0.095338  \n",
              "tempo                    -0.033376  0.033284  \n",
              "duration_in min/ms        0.014090  0.202740  \n",
              "time_signature            1.000000  0.040272  \n",
              "Class                     0.040272  1.000000  "
            ],
            "text/html": [
              "\n",
              "\n",
              "  <div id=\"df-40bd067f-6b6a-4961-8258-2151de0cac91\">\n",
              "    <div class=\"colab-df-container\">\n",
              "      <div>\n",
              "<style scoped>\n",
              "    .dataframe tbody tr th:only-of-type {\n",
              "        vertical-align: middle;\n",
              "    }\n",
              "\n",
              "    .dataframe tbody tr th {\n",
              "        vertical-align: top;\n",
              "    }\n",
              "\n",
              "    .dataframe thead th {\n",
              "        text-align: right;\n",
              "    }\n",
              "</style>\n",
              "<table border=\"1\" class=\"dataframe\">\n",
              "  <thead>\n",
              "    <tr style=\"text-align: right;\">\n",
              "      <th></th>\n",
              "      <th>Popularity</th>\n",
              "      <th>danceability</th>\n",
              "      <th>energy</th>\n",
              "      <th>key</th>\n",
              "      <th>loudness</th>\n",
              "      <th>mode</th>\n",
              "      <th>speechiness</th>\n",
              "      <th>acousticness</th>\n",
              "      <th>instrumentalness</th>\n",
              "      <th>liveness</th>\n",
              "      <th>valence</th>\n",
              "      <th>tempo</th>\n",
              "      <th>duration_in min/ms</th>\n",
              "      <th>time_signature</th>\n",
              "      <th>Class</th>\n",
              "    </tr>\n",
              "  </thead>\n",
              "  <tbody>\n",
              "    <tr>\n",
              "      <th>Popularity</th>\n",
              "      <td>1.000000</td>\n",
              "      <td>0.150423</td>\n",
              "      <td>0.056658</td>\n",
              "      <td>0.014157</td>\n",
              "      <td>0.107584</td>\n",
              "      <td>0.002349</td>\n",
              "      <td>-0.005086</td>\n",
              "      <td>-0.127827</td>\n",
              "      <td>-0.169138</td>\n",
              "      <td>-0.078768</td>\n",
              "      <td>0.057260</td>\n",
              "      <td>0.004316</td>\n",
              "      <td>0.005262</td>\n",
              "      <td>0.073967</td>\n",
              "      <td>0.167202</td>\n",
              "    </tr>\n",
              "    <tr>\n",
              "      <th>danceability</th>\n",
              "      <td>0.150423</td>\n",
              "      <td>1.000000</td>\n",
              "      <td>-0.091171</td>\n",
              "      <td>0.011338</td>\n",
              "      <td>0.043601</td>\n",
              "      <td>-0.055355</td>\n",
              "      <td>0.106994</td>\n",
              "      <td>0.023827</td>\n",
              "      <td>-0.203031</td>\n",
              "      <td>-0.113663</td>\n",
              "      <td>0.454353</td>\n",
              "      <td>-0.176867</td>\n",
              "      <td>-0.122413</td>\n",
              "      <td>0.118958</td>\n",
              "      <td>-0.115610</td>\n",
              "    </tr>\n",
              "    <tr>\n",
              "      <th>energy</th>\n",
              "      <td>0.056658</td>\n",
              "      <td>-0.091171</td>\n",
              "      <td>1.000000</td>\n",
              "      <td>0.027024</td>\n",
              "      <td>0.793044</td>\n",
              "      <td>-0.041969</td>\n",
              "      <td>0.180759</td>\n",
              "      <td>-0.758749</td>\n",
              "      <td>-0.175861</td>\n",
              "      <td>0.197962</td>\n",
              "      <td>0.215924</td>\n",
              "      <td>0.214956</td>\n",
              "      <td>0.254625</td>\n",
              "      <td>0.138728</td>\n",
              "      <td>0.217663</td>\n",
              "    </tr>\n",
              "    <tr>\n",
              "      <th>key</th>\n",
              "      <td>0.014157</td>\n",
              "      <td>0.011338</td>\n",
              "      <td>0.027024</td>\n",
              "      <td>1.000000</td>\n",
              "      <td>0.018124</td>\n",
              "      <td>-0.116908</td>\n",
              "      <td>0.000031</td>\n",
              "      <td>-0.017613</td>\n",
              "      <td>-0.003804</td>\n",
              "      <td>0.015359</td>\n",
              "      <td>0.034677</td>\n",
              "      <td>0.018792</td>\n",
              "      <td>0.020355</td>\n",
              "      <td>0.007664</td>\n",
              "      <td>0.007158</td>\n",
              "    </tr>\n",
              "    <tr>\n",
              "      <th>loudness</th>\n",
              "      <td>0.107584</td>\n",
              "      <td>0.043601</td>\n",
              "      <td>0.793044</td>\n",
              "      <td>0.018124</td>\n",
              "      <td>1.000000</td>\n",
              "      <td>-0.036329</td>\n",
              "      <td>0.124441</td>\n",
              "      <td>-0.643064</td>\n",
              "      <td>-0.339755</td>\n",
              "      <td>0.118982</td>\n",
              "      <td>0.185504</td>\n",
              "      <td>0.170358</td>\n",
              "      <td>0.206686</td>\n",
              "      <td>0.115369</td>\n",
              "      <td>0.160725</td>\n",
              "    </tr>\n",
              "    <tr>\n",
              "      <th>mode</th>\n",
              "      <td>0.002349</td>\n",
              "      <td>-0.055355</td>\n",
              "      <td>-0.041969</td>\n",
              "      <td>-0.116908</td>\n",
              "      <td>-0.036329</td>\n",
              "      <td>1.000000</td>\n",
              "      <td>-0.042340</td>\n",
              "      <td>0.024950</td>\n",
              "      <td>-0.007763</td>\n",
              "      <td>-0.018815</td>\n",
              "      <td>-0.006070</td>\n",
              "      <td>0.013929</td>\n",
              "      <td>-0.061291</td>\n",
              "      <td>-0.006021</td>\n",
              "      <td>-0.029513</td>\n",
              "    </tr>\n",
              "    <tr>\n",
              "      <th>speechiness</th>\n",
              "      <td>-0.005086</td>\n",
              "      <td>0.106994</td>\n",
              "      <td>0.180759</td>\n",
              "      <td>0.000031</td>\n",
              "      <td>0.124441</td>\n",
              "      <td>-0.042340</td>\n",
              "      <td>1.000000</td>\n",
              "      <td>-0.099593</td>\n",
              "      <td>-0.071010</td>\n",
              "      <td>0.083939</td>\n",
              "      <td>0.007973</td>\n",
              "      <td>0.089371</td>\n",
              "      <td>0.008818</td>\n",
              "      <td>0.038287</td>\n",
              "      <td>-0.018164</td>\n",
              "    </tr>\n",
              "    <tr>\n",
              "      <th>acousticness</th>\n",
              "      <td>-0.127827</td>\n",
              "      <td>0.023827</td>\n",
              "      <td>-0.758749</td>\n",
              "      <td>-0.017613</td>\n",
              "      <td>-0.643064</td>\n",
              "      <td>0.024950</td>\n",
              "      <td>-0.099593</td>\n",
              "      <td>1.000000</td>\n",
              "      <td>0.173870</td>\n",
              "      <td>-0.108914</td>\n",
              "      <td>-0.127934</td>\n",
              "      <td>-0.172389</td>\n",
              "      <td>-0.350481</td>\n",
              "      <td>-0.142333</td>\n",
              "      <td>-0.252490</td>\n",
              "    </tr>\n",
              "    <tr>\n",
              "      <th>instrumentalness</th>\n",
              "      <td>-0.169138</td>\n",
              "      <td>-0.203031</td>\n",
              "      <td>-0.175861</td>\n",
              "      <td>-0.003804</td>\n",
              "      <td>-0.339755</td>\n",
              "      <td>-0.007763</td>\n",
              "      <td>-0.071010</td>\n",
              "      <td>0.173870</td>\n",
              "      <td>1.000000</td>\n",
              "      <td>-0.041942</td>\n",
              "      <td>-0.225034</td>\n",
              "      <td>-0.024161</td>\n",
              "      <td>-0.000494</td>\n",
              "      <td>-0.069481</td>\n",
              "      <td>-0.035133</td>\n",
              "    </tr>\n",
              "    <tr>\n",
              "      <th>liveness</th>\n",
              "      <td>-0.078768</td>\n",
              "      <td>-0.113663</td>\n",
              "      <td>0.197962</td>\n",
              "      <td>0.015359</td>\n",
              "      <td>0.118982</td>\n",
              "      <td>-0.018815</td>\n",
              "      <td>0.083939</td>\n",
              "      <td>-0.108914</td>\n",
              "      <td>-0.041942</td>\n",
              "      <td>1.000000</td>\n",
              "      <td>0.020828</td>\n",
              "      <td>0.027629</td>\n",
              "      <td>0.060140</td>\n",
              "      <td>0.006907</td>\n",
              "      <td>0.039757</td>\n",
              "    </tr>\n",
              "    <tr>\n",
              "      <th>valence</th>\n",
              "      <td>0.057260</td>\n",
              "      <td>0.454353</td>\n",
              "      <td>0.215924</td>\n",
              "      <td>0.034677</td>\n",
              "      <td>0.185504</td>\n",
              "      <td>-0.006070</td>\n",
              "      <td>0.007973</td>\n",
              "      <td>-0.127934</td>\n",
              "      <td>-0.225034</td>\n",
              "      <td>0.020828</td>\n",
              "      <td>1.000000</td>\n",
              "      <td>0.061179</td>\n",
              "      <td>-0.101274</td>\n",
              "      <td>0.097350</td>\n",
              "      <td>-0.095338</td>\n",
              "    </tr>\n",
              "    <tr>\n",
              "      <th>tempo</th>\n",
              "      <td>0.004316</td>\n",
              "      <td>-0.176867</td>\n",
              "      <td>0.214956</td>\n",
              "      <td>0.018792</td>\n",
              "      <td>0.170358</td>\n",
              "      <td>0.013929</td>\n",
              "      <td>0.089371</td>\n",
              "      <td>-0.172389</td>\n",
              "      <td>-0.024161</td>\n",
              "      <td>0.027629</td>\n",
              "      <td>0.061179</td>\n",
              "      <td>1.000000</td>\n",
              "      <td>0.044004</td>\n",
              "      <td>-0.033376</td>\n",
              "      <td>0.033284</td>\n",
              "    </tr>\n",
              "    <tr>\n",
              "      <th>duration_in min/ms</th>\n",
              "      <td>0.005262</td>\n",
              "      <td>-0.122413</td>\n",
              "      <td>0.254625</td>\n",
              "      <td>0.020355</td>\n",
              "      <td>0.206686</td>\n",
              "      <td>-0.061291</td>\n",
              "      <td>0.008818</td>\n",
              "      <td>-0.350481</td>\n",
              "      <td>-0.000494</td>\n",
              "      <td>0.060140</td>\n",
              "      <td>-0.101274</td>\n",
              "      <td>0.044004</td>\n",
              "      <td>1.000000</td>\n",
              "      <td>0.014090</td>\n",
              "      <td>0.202740</td>\n",
              "    </tr>\n",
              "    <tr>\n",
              "      <th>time_signature</th>\n",
              "      <td>0.073967</td>\n",
              "      <td>0.118958</td>\n",
              "      <td>0.138728</td>\n",
              "      <td>0.007664</td>\n",
              "      <td>0.115369</td>\n",
              "      <td>-0.006021</td>\n",
              "      <td>0.038287</td>\n",
              "      <td>-0.142333</td>\n",
              "      <td>-0.069481</td>\n",
              "      <td>0.006907</td>\n",
              "      <td>0.097350</td>\n",
              "      <td>-0.033376</td>\n",
              "      <td>0.014090</td>\n",
              "      <td>1.000000</td>\n",
              "      <td>0.040272</td>\n",
              "    </tr>\n",
              "    <tr>\n",
              "      <th>Class</th>\n",
              "      <td>0.167202</td>\n",
              "      <td>-0.115610</td>\n",
              "      <td>0.217663</td>\n",
              "      <td>0.007158</td>\n",
              "      <td>0.160725</td>\n",
              "      <td>-0.029513</td>\n",
              "      <td>-0.018164</td>\n",
              "      <td>-0.252490</td>\n",
              "      <td>-0.035133</td>\n",
              "      <td>0.039757</td>\n",
              "      <td>-0.095338</td>\n",
              "      <td>0.033284</td>\n",
              "      <td>0.202740</td>\n",
              "      <td>0.040272</td>\n",
              "      <td>1.000000</td>\n",
              "    </tr>\n",
              "  </tbody>\n",
              "</table>\n",
              "</div>\n",
              "      <button class=\"colab-df-convert\" onclick=\"convertToInteractive('df-40bd067f-6b6a-4961-8258-2151de0cac91')\"\n",
              "              title=\"Convert this dataframe to an interactive table.\"\n",
              "              style=\"display:none;\">\n",
              "\n",
              "  <svg xmlns=\"http://www.w3.org/2000/svg\" height=\"24px\"viewBox=\"0 0 24 24\"\n",
              "       width=\"24px\">\n",
              "    <path d=\"M0 0h24v24H0V0z\" fill=\"none\"/>\n",
              "    <path d=\"M18.56 5.44l.94 2.06.94-2.06 2.06-.94-2.06-.94-.94-2.06-.94 2.06-2.06.94zm-11 1L8.5 8.5l.94-2.06 2.06-.94-2.06-.94L8.5 2.5l-.94 2.06-2.06.94zm10 10l.94 2.06.94-2.06 2.06-.94-2.06-.94-.94-2.06-.94 2.06-2.06.94z\"/><path d=\"M17.41 7.96l-1.37-1.37c-.4-.4-.92-.59-1.43-.59-.52 0-1.04.2-1.43.59L10.3 9.45l-7.72 7.72c-.78.78-.78 2.05 0 2.83L4 21.41c.39.39.9.59 1.41.59.51 0 1.02-.2 1.41-.59l7.78-7.78 2.81-2.81c.8-.78.8-2.07 0-2.86zM5.41 20L4 18.59l7.72-7.72 1.47 1.35L5.41 20z\"/>\n",
              "  </svg>\n",
              "      </button>\n",
              "\n",
              "\n",
              "\n",
              "    <div id=\"df-f208b4b6-26de-40d9-92ef-e0d8ec160499\">\n",
              "      <button class=\"colab-df-quickchart\" onclick=\"quickchart('df-f208b4b6-26de-40d9-92ef-e0d8ec160499')\"\n",
              "              title=\"Suggest charts.\"\n",
              "              style=\"display:none;\">\n",
              "\n",
              "<svg xmlns=\"http://www.w3.org/2000/svg\" height=\"24px\"viewBox=\"0 0 24 24\"\n",
              "     width=\"24px\">\n",
              "    <g>\n",
              "        <path d=\"M19 3H5c-1.1 0-2 .9-2 2v14c0 1.1.9 2 2 2h14c1.1 0 2-.9 2-2V5c0-1.1-.9-2-2-2zM9 17H7v-7h2v7zm4 0h-2V7h2v10zm4 0h-2v-4h2v4z\"/>\n",
              "    </g>\n",
              "</svg>\n",
              "      </button>\n",
              "    </div>\n",
              "\n",
              "<style>\n",
              "  .colab-df-quickchart {\n",
              "    background-color: #E8F0FE;\n",
              "    border: none;\n",
              "    border-radius: 50%;\n",
              "    cursor: pointer;\n",
              "    display: none;\n",
              "    fill: #1967D2;\n",
              "    height: 32px;\n",
              "    padding: 0 0 0 0;\n",
              "    width: 32px;\n",
              "  }\n",
              "\n",
              "  .colab-df-quickchart:hover {\n",
              "    background-color: #E2EBFA;\n",
              "    box-shadow: 0px 1px 2px rgba(60, 64, 67, 0.3), 0px 1px 3px 1px rgba(60, 64, 67, 0.15);\n",
              "    fill: #174EA6;\n",
              "  }\n",
              "\n",
              "  [theme=dark] .colab-df-quickchart {\n",
              "    background-color: #3B4455;\n",
              "    fill: #D2E3FC;\n",
              "  }\n",
              "\n",
              "  [theme=dark] .colab-df-quickchart:hover {\n",
              "    background-color: #434B5C;\n",
              "    box-shadow: 0px 1px 3px 1px rgba(0, 0, 0, 0.15);\n",
              "    filter: drop-shadow(0px 1px 2px rgba(0, 0, 0, 0.3));\n",
              "    fill: #FFFFFF;\n",
              "  }\n",
              "</style>\n",
              "\n",
              "    <script>\n",
              "      async function quickchart(key) {\n",
              "        const containerElement = document.querySelector('#' + key);\n",
              "        const charts = await google.colab.kernel.invokeFunction(\n",
              "            'suggestCharts', [key], {});\n",
              "      }\n",
              "    </script>\n",
              "\n",
              "      <script>\n",
              "\n",
              "function displayQuickchartButton(domScope) {\n",
              "  let quickchartButtonEl =\n",
              "    domScope.querySelector('#df-f208b4b6-26de-40d9-92ef-e0d8ec160499 button.colab-df-quickchart');\n",
              "  quickchartButtonEl.style.display =\n",
              "    google.colab.kernel.accessAllowed ? 'block' : 'none';\n",
              "}\n",
              "\n",
              "        displayQuickchartButton(document);\n",
              "      </script>\n",
              "      <style>\n",
              "    .colab-df-container {\n",
              "      display:flex;\n",
              "      flex-wrap:wrap;\n",
              "      gap: 12px;\n",
              "    }\n",
              "\n",
              "    .colab-df-convert {\n",
              "      background-color: #E8F0FE;\n",
              "      border: none;\n",
              "      border-radius: 50%;\n",
              "      cursor: pointer;\n",
              "      display: none;\n",
              "      fill: #1967D2;\n",
              "      height: 32px;\n",
              "      padding: 0 0 0 0;\n",
              "      width: 32px;\n",
              "    }\n",
              "\n",
              "    .colab-df-convert:hover {\n",
              "      background-color: #E2EBFA;\n",
              "      box-shadow: 0px 1px 2px rgba(60, 64, 67, 0.3), 0px 1px 3px 1px rgba(60, 64, 67, 0.15);\n",
              "      fill: #174EA6;\n",
              "    }\n",
              "\n",
              "    [theme=dark] .colab-df-convert {\n",
              "      background-color: #3B4455;\n",
              "      fill: #D2E3FC;\n",
              "    }\n",
              "\n",
              "    [theme=dark] .colab-df-convert:hover {\n",
              "      background-color: #434B5C;\n",
              "      box-shadow: 0px 1px 3px 1px rgba(0, 0, 0, 0.15);\n",
              "      filter: drop-shadow(0px 1px 2px rgba(0, 0, 0, 0.3));\n",
              "      fill: #FFFFFF;\n",
              "    }\n",
              "  </style>\n",
              "\n",
              "      <script>\n",
              "        const buttonEl =\n",
              "          document.querySelector('#df-40bd067f-6b6a-4961-8258-2151de0cac91 button.colab-df-convert');\n",
              "        buttonEl.style.display =\n",
              "          google.colab.kernel.accessAllowed ? 'block' : 'none';\n",
              "\n",
              "        async function convertToInteractive(key) {\n",
              "          const element = document.querySelector('#df-40bd067f-6b6a-4961-8258-2151de0cac91');\n",
              "          const dataTable =\n",
              "            await google.colab.kernel.invokeFunction('convertToInteractive',\n",
              "                                                     [key], {});\n",
              "          if (!dataTable) return;\n",
              "\n",
              "          const docLinkHtml = 'Like what you see? Visit the ' +\n",
              "            '<a target=\"_blank\" href=https://colab.research.google.com/notebooks/data_table.ipynb>data table notebook</a>'\n",
              "            + ' to learn more about interactive tables.';\n",
              "          element.innerHTML = '';\n",
              "          dataTable['output_type'] = 'display_data';\n",
              "          await google.colab.output.renderOutput(dataTable, element);\n",
              "          const docLink = document.createElement('div');\n",
              "          docLink.innerHTML = docLinkHtml;\n",
              "          element.appendChild(docLink);\n",
              "        }\n",
              "      </script>\n",
              "    </div>\n",
              "  </div>\n"
            ]
          },
          "metadata": {},
          "execution_count": 13
        }
      ],
      "source": [
        "train.drop('Id',axis=1).corr()"
      ]
    },
    {
      "cell_type": "code",
      "execution_count": null,
      "metadata": {
        "colab": {
          "base_uri": "https://localhost:8080/"
        },
        "id": "hEKpGM8VPS5f",
        "outputId": "210c7600-55bd-4601-f76d-e332f9d71f19"
      },
      "outputs": [
        {
          "output_type": "execute_result",
          "data": {
            "text/plain": [
              "10    2688\n",
              "6     1611\n",
              "8     1222\n",
              "9      887\n",
              "1      833\n",
              "2      760\n",
              "5      405\n",
              "7      372\n",
              "0      302\n",
              "3      214\n",
              "4      118\n",
              "Name: Class, dtype: int64"
            ]
          },
          "metadata": {},
          "execution_count": 14
        }
      ],
      "source": [
        "train['Class'].value_counts()"
      ]
    },
    {
      "cell_type": "markdown",
      "metadata": {
        "id": "qG8-hmgDBxk8"
      },
      "source": [
        "#Data Visulaization"
      ]
    },
    {
      "cell_type": "code",
      "execution_count": null,
      "metadata": {
        "colab": {
          "base_uri": "https://localhost:8080/",
          "height": 719
        },
        "id": "pE_rDZdXB1H7",
        "outputId": "eb70195b-1e99-4a74-84fa-7adaba1e6468"
      },
      "outputs": [
        {
          "data": {
            "text/plain": [
              "[Text(0, 0, 'Popularity'),\n",
              " Text(1, 0, 'danceability'),\n",
              " Text(2, 0, 'energy'),\n",
              " Text(3, 0, 'key'),\n",
              " Text(4, 0, 'loudness'),\n",
              " Text(5, 0, 'mode'),\n",
              " Text(6, 0, 'speechiness'),\n",
              " Text(7, 0, 'acousticness'),\n",
              " Text(8, 0, 'instrumentalness'),\n",
              " Text(9, 0, 'valence'),\n",
              " Text(10, 0, 'tempo'),\n",
              " Text(11, 0, 'Class')]"
            ]
          },
          "execution_count": 32,
          "metadata": {},
          "output_type": "execute_result"
        },
        {
          "data": {
            "image/png": "[encoded data removed]",
            "text/plain": [
              "<Figure size 640x480 with 1 Axes>"
            ]
          },
          "metadata": {},
          "output_type": "display_data"
        }
      ],
      "source": [
        "ax=sns.boxplot(train)\n",
        "ax.set_xticklabels(ax.get_xticklabels(),rotation=45)\n"
      ]
    },
    {
      "cell_type": "code",
      "execution_count": null,
      "metadata": {
        "colab": {
          "base_uri": "https://localhost:8080/",
          "height": 447
        },
        "id": "A8WDnsthR1TC",
        "outputId": "5476eb4f-06ea-43d0-b460-0abc64d63e4d"
      },
      "outputs": [
        {
          "data": {
            "text/plain": [
              "<Axes: >"
            ]
          },
          "execution_count": 34,
          "metadata": {},
          "output_type": "execute_result"
        },
        {
          "data": {
            "image/png": "[encoded data removed]",
            "text/plain": [
              "<Figure size 640x480 with 1 Axes>"
            ]
          },
          "metadata": {},
          "output_type": "display_data"
        }
      ],
      "source": [
        "sns.boxplot(train['Popularity'])"
      ]
    },
    {
      "cell_type": "code",
      "execution_count": null,
      "metadata": {
        "id": "gFV09HpASCg2"
      },
      "outputs": [],
      "source": [
        "#90-100"
      ]
    },
    {
      "cell_type": "code",
      "execution_count": null,
      "metadata": {
        "colab": {
          "base_uri": "https://localhost:8080/",
          "height": 447
        },
        "id": "tIwRmM6MSGSX",
        "outputId": "8a1f39b8-d379-4ddd-f427-4424868c00be"
      },
      "outputs": [
        {
          "data": {
            "text/plain": [
              "<Axes: >"
            ]
          },
          "execution_count": 35,
          "metadata": {},
          "output_type": "execute_result"
        },
        {
          "data": {
            "image/png": "[encoded data removed]",
            "text/plain": [
              "<Figure size 640x480 with 1 Axes>"
            ]
          },
          "metadata": {},
          "output_type": "display_data"
        }
      ],
      "source": [
        "sns.boxplot(train['danceability'])"
      ]
    },
    {
      "cell_type": "code",
      "execution_count": null,
      "metadata": {
        "id": "qq5z0wqGRa0w"
      },
      "outputs": [],
      "source": [
        "#<0.1"
      ]
    },
    {
      "cell_type": "code",
      "execution_count": null,
      "metadata": {
        "colab": {
          "base_uri": "https://localhost:8080/",
          "height": 447
        },
        "id": "XmwS5r6zSWZH",
        "outputId": "454b6298-494b-4155-aad8-8a90c720010d"
      },
      "outputs": [
        {
          "data": {
            "text/plain": [
              "<Axes: >"
            ]
          },
          "execution_count": 38,
          "metadata": {},
          "output_type": "execute_result"
        },
        {
          "data": {
            "image/png": "[encoded data removed]",
            "text/plain": [
              "<Figure size 640x480 with 1 Axes>"
            ]
          },
          "metadata": {},
          "output_type": "display_data"
        }
      ],
      "source": [
        "sns.boxplot(train['loudness'])"
      ]
    },
    {
      "cell_type": "code",
      "execution_count": null,
      "metadata": {
        "id": "Yt8kWJZtRdrj"
      },
      "outputs": [],
      "source": [
        "#<-18"
      ]
    },
    {
      "cell_type": "code",
      "execution_count": null,
      "metadata": {
        "colab": {
          "base_uri": "https://localhost:8080/",
          "height": 449
        },
        "id": "cN5eoN5kSsZS",
        "outputId": "09f8d6b1-5e8d-4b65-989f-93a8170be5bc"
      },
      "outputs": [
        {
          "data": {
            "text/plain": [
              "<Axes: >"
            ]
          },
          "execution_count": 40,
          "metadata": {},
          "output_type": "execute_result"
        },
        {
          "data": {
            "image/png": "[encoded data removed]",
            "text/plain": [
              "<Figure size 640x480 with 1 Axes>"
            ]
          },
          "metadata": {},
          "output_type": "display_data"
        }
      ],
      "source": [
        "sns.boxplot(train['tempo'])"
      ]
    },
    {
      "cell_type": "code",
      "execution_count": null,
      "metadata": {
        "id": "jpgT758XVrxh"
      },
      "outputs": [],
      "source": [
        "#-40-15"
      ]
    },
    {
      "cell_type": "code",
      "execution_count": null,
      "metadata": {
        "id": "2Z-BT45pVx36"
      },
      "outputs": [],
      "source": [
        "#215 - 220\n",
        "#0 -40"
      ]
    },
    {
      "cell_type": "code",
      "execution_count": null,
      "metadata": {
        "id": "8s8uvuDhWK4I"
      },
      "outputs": [],
      "source": [
        "sns.pairplot(train.drop(['Id','Artist Name','Track Name','liveness','time_signature','key','mode'],axis=1))\n",
        "plt.show()"
      ]
    },
    {
      "cell_type": "code",
      "execution_count": null,
      "metadata": {
        "id": "2sAnoJIbXL7p"
      },
      "outputs": [],
      "source": [
        "fig, ax = plt.subplots(figsize=(8,8))\n",
        "ax.scatter(x=train['loudness'],y=train['energy'],alpha=0.5)\n",
        "plt.title('enrergy/loudness relation')\n",
        "plt.x_lable('loudness')\n",
        "plt.y_lable('energy')"
      ]
    },
    {
      "cell_type": "code",
      "execution_count": null,
      "metadata": {
        "colab": {
          "base_uri": "https://localhost:8080/",
          "height": 882
        },
        "id": "J_N3zMzrX87z",
        "outputId": "41df09ca-6429-4cd1-bdf7-1d04b7afc4e1"
      },
      "outputs": [
        {
          "output_type": "stream",
          "name": "stderr",
          "text": [
            "<ipython-input-50-7713ce578bbb>:2: FutureWarning: The default value of numeric_only in DataFrame.corr is deprecated. In a future version, it will default to False. Select only valid columns or specify the value of numeric_only to silence this warning.\n",
            "  sns.heatmap(train.drop(['Id','liveness','time_signature','key','mode'],axis=1).corr(),vmin=-1,vmax=1,annot=True)\n"
          ]
        },
        {
          "output_type": "execute_result",
          "data": {
            "text/plain": [
              "Text(0.5, 1.0, 'Correlation between features')"
            ]
          },
          "metadata": {},
          "execution_count": 50
        },
        {
          "output_type": "display_data",
          "data": {
            "text/plain": [
              "<Figure size 1600x800 with 2 Axes>"
            ],
            "image/png": "[encoded data removed]"
          },
          "metadata": {}
        }
      ],
      "source": [
        "plt.figure(figsize=(16, 8))\n",
        "sns.heatmap(train.drop(['Id','liveness','time_signature','key','mode'],axis=1).corr(),vmin=-1,vmax=1,annot=True)\n",
        "plt.title('Correlation between features')"
      ]
    },
    {
      "cell_type": "markdown",
      "metadata": {
        "id": "gaxYhH5XB4nF"
      },
      "source": [
        "#Data preprocessing"
      ]
    },
    {
      "cell_type": "code",
      "execution_count": null,
      "metadata": {
        "id": "6c-Lr28UO-ak"
      },
      "outputs": [],
      "source": [
        "train=train.dropna()"
      ]
    },
    {
      "cell_type": "code",
      "execution_count": null,
      "metadata": {
        "id": "ZN82ZwcVROCQ"
      },
      "outputs": [],
      "source": [
        "train = train[(train[\"Popularity\"]<90)]\n",
        "train = train[(train[\"loudness\"]>-18)]\n",
        "train = train[(train[\"tempo\"]>40)&(train[\"tempo\"]<210)]"
      ]
    },
    {
      "cell_type": "code",
      "execution_count": null,
      "metadata": {
        "colab": {
          "base_uri": "https://localhost:8080/"
        },
        "id": "hTkW3X_P2mVX",
        "outputId": "2f8f458d-95ad-4242-a0c4-68654000369e"
      },
      "outputs": [
        {
          "output_type": "execute_result",
          "data": {
            "text/plain": [
              "Index(['Id', 'Artist Name', 'Track Name', 'Popularity', 'danceability',\n",
              "       'energy', 'key', 'loudness', 'mode', 'speechiness', 'acousticness',\n",
              "       'instrumentalness', 'liveness', 'valence', 'tempo',\n",
              "       'duration_in min/ms', 'time_signature', 'Class'],\n",
              "      dtype='object')"
            ]
          },
          "metadata": {},
          "execution_count": 7
        }
      ],
      "source": [
        "train.columns"
      ]
    },
    {
      "cell_type": "markdown",
      "metadata": {
        "id": "vEmrKkaIB6n8"
      },
      "source": [
        "#Select and Train the Model"
      ]
    },
    {
      "cell_type": "code",
      "execution_count": null,
      "metadata": {
        "id": "HcgFqDBNB_Ia"
      },
      "outputs": [],
      "source": [
        "X=train.drop(['Id','Artist Name','Track Name','key', 'mode',\n",
        "       'liveness', 'time_signature','Class'],axis=1)\n",
        "y=train['Class']"
      ]
    },
    {
      "cell_type": "code",
      "source": [
        "X.isna().sum()"
      ],
      "metadata": {
        "colab": {
          "base_uri": "https://localhost:8080/"
        },
        "id": "eUwDWFqI5TJk",
        "outputId": "8919a70f-dd0e-44ee-c6ab-c5d2e36ae715"
      },
      "execution_count": null,
      "outputs": [
        {
          "output_type": "execute_result",
          "data": {
            "text/plain": [
              "loudness              0\n",
              "speechiness           0\n",
              "instrumentalness      0\n",
              "tempo                 0\n",
              "duration_in min/ms    0\n",
              "dtype: int64"
            ]
          },
          "metadata": {},
          "execution_count": 7
        }
      ]
    },
    {
      "cell_type": "code",
      "execution_count": null,
      "metadata": {
        "id": "rzwtety9syDV"
      },
      "outputs": [],
      "source": [
        "over = SMOTE(sampling_strategy='minority')\n",
        "under = RandomUnderSampler(sampling_strategy={10:1500})\n",
        "X_re, y_re = over.fit_resample(X, y)\n",
        "X_re, y_re=under.fit_resample(X_re,y_re)"
      ]
    },
    {
      "cell_type": "code",
      "execution_count": null,
      "metadata": {
        "id": "_lQ6WvTDtpqZ"
      },
      "outputs": [],
      "source": [
        "x_train,x_test,y_train,y_test=train_test_split(X_re,y_re,test_size=0.2,random_state=42)"
      ]
    },
    {
      "cell_type": "code",
      "execution_count": null,
      "metadata": {
        "id": "k0pJkc5Fp6FG"
      },
      "outputs": [],
      "source": [
        "num_attribs=[]\n",
        "cat_attribs=[]\n",
        "for name in list(X):\n",
        "  if name =='Artist name' or name == 'Track Name':\n",
        "    cat_attribs.append(name)\n",
        "  else:\n",
        "    num_attribs.append(name)\n",
        "\n",
        "\n",
        "class CombinedAttributesAdder(BaseEstimator, TransformerMixin):\n",
        "    def fit(self,X, y=None):\n",
        "        return self\n",
        "    def transform(self, x_train, y=None):\n",
        "        np.seterr(invalid='ignore')\n",
        "      #train['energy']*(36.214+train['loudness'])*np.sqrt(3+train['acousticness'])\n",
        "        mx=x_train[:,3].max()\n",
        "        m=x_train[:,2]*(mx+x_train[:,3])*np.sqrt(3+x_train[:,5])\n",
        "        return np.c_[x_train,m]\n",
        "\n",
        "num_pipeline=Pipeline(\n",
        "    [   ('imputer',SimpleImputer(strategy=\"median\")), #to avoid any null values coming from adding the new cloumn[s]\n",
        "        ('attribs_adder', CombinedAttributesAdder()), #adding the volumn column\n",
        "        ('std_scaler', StandardScaler())] #scaling data\n",
        ")\n",
        "cat_pipeline=Pipeline(\n",
        "    [\n",
        "     ('lable_encoder',LabelEncoder()), #catigorical data are ordered, so we use ordinal encoder\n",
        "     ('std_scaler',StandardScaler()) #scaling data\n",
        "]\n",
        "    )\n",
        "full_pipeline=ColumnTransformer([\n",
        "    ('num',num_pipeline,num_attribs)\n",
        "    ])\n"
      ]
    },
    {
      "cell_type": "code",
      "execution_count": null,
      "metadata": {
        "id": "ljJ0vHqYhj2t"
      },
      "outputs": [],
      "source": [
        "#logistic regression\n",
        "logistic_regression=Pipeline([('pipeline',full_pipeline),\n",
        "                    ('logistic_regression',LogisticRegression(max_iter=1000))])\n",
        "logistic_regression.fit(x_train,y_train)"
      ]
    },
    {
      "cell_type": "code",
      "execution_count": null,
      "metadata": {
        "id": "GSDpP3QoikBF"
      },
      "outputs": [],
      "source": [
        "#knn\n",
        "knn=Pipeline([('pipeline',full_pipeline),\n",
        "              ('knn',KNeighborsClassifier(metric='manhattan', n_neighbors=29))])\n",
        "knn.fit(x_train,y_train)"
      ]
    },
    {
      "cell_type": "code",
      "execution_count": null,
      "metadata": {
        "id": "XzAA1cMZiV6x",
        "colab": {
          "base_uri": "https://localhost:8080/",
          "height": 262
        },
        "outputId": "927c19c9-330d-40e7-e60a-eadd883a77f7"
      },
      "outputs": [
        {
          "output_type": "execute_result",
          "data": {
            "text/plain": [
              "Pipeline(steps=[('pipeline',\n",
              "                 ColumnTransformer(transformers=[('num',\n",
              "                                                  Pipeline(steps=[('imputer',\n",
              "                                                                   SimpleImputer(strategy='median')),\n",
              "                                                                  ('attribs_adder',\n",
              "                                                                   CombinedAttributesAdder()),\n",
              "                                                                  ('std_scaler',\n",
              "                                                                   StandardScaler())]),\n",
              "                                                  ['Popularity', 'danceability',\n",
              "                                                   'energy', 'loudness',\n",
              "                                                   'speechiness',\n",
              "                                                   'acousticness',\n",
              "                                                   'instrumentalness',\n",
              "                                                   'valence', 'tempo',\n",
              "                                                   'duration_in min/ms'])])),\n",
              "                ('rf', RandomForestClassifier(n_estimators=1000))])"
            ],
            "text/html": [
              "<style>#sk-container-id-3 {color: black;background-color: white;}#sk-container-id-3 pre{padding: 0;}#sk-container-id-3 div.sk-toggleable {background-color: white;}#sk-container-id-3 label.sk-toggleable__label {cursor: pointer;display: block;width: 100%;margin-bottom: 0;padding: 0.3em;box-sizing: border-box;text-align: center;}#sk-container-id-3 label.sk-toggleable__label-arrow:before {content: \"▸\";float: left;margin-right: 0.25em;color: #696969;}#sk-container-id-3 label.sk-toggleable__label-arrow:hover:before {color: black;}#sk-container-id-3 div.sk-estimator:hover label.sk-toggleable__label-arrow:before {color: black;}#sk-container-id-3 div.sk-toggleable__content {max-height: 0;max-width: 0;overflow: hidden;text-align: left;background-color: #f0f8ff;}#sk-container-id-3 div.sk-toggleable__content pre {margin: 0.2em;color: black;border-radius: 0.25em;background-color: #f0f8ff;}#sk-container-id-3 input.sk-toggleable__control:checked~div.sk-toggleable__content {max-height: 200px;max-width: 100%;overflow: auto;}#sk-container-id-3 input.sk-toggleable__control:checked~label.sk-toggleable__label-arrow:before {content: \"▾\";}#sk-container-id-3 div.sk-estimator input.sk-toggleable__control:checked~label.sk-toggleable__label {background-color: #d4ebff;}#sk-container-id-3 div.sk-label input.sk-toggleable__control:checked~label.sk-toggleable__label {background-color: #d4ebff;}#sk-container-id-3 input.sk-hidden--visually {border: 0;clip: rect(1px 1px 1px 1px);clip: rect(1px, 1px, 1px, 1px);height: 1px;margin: -1px;overflow: hidden;padding: 0;position: absolute;width: 1px;}#sk-container-id-3 div.sk-estimator {font-family: monospace;background-color: #f0f8ff;border: 1px dotted black;border-radius: 0.25em;box-sizing: border-box;margin-bottom: 0.5em;}#sk-container-id-3 div.sk-estimator:hover {background-color: #d4ebff;}#sk-container-id-3 div.sk-parallel-item::after {content: \"\";width: 100%;border-bottom: 1px solid gray;flex-grow: 1;}#sk-container-id-3 div.sk-label:hover label.sk-toggleable__label {background-color: #d4ebff;}#sk-container-id-3 div.sk-serial::before {content: \"\";position: absolute;border-left: 1px solid gray;box-sizing: border-box;top: 0;bottom: 0;left: 50%;z-index: 0;}#sk-container-id-3 div.sk-serial {display: flex;flex-direction: column;align-items: center;background-color: white;padding-right: 0.2em;padding-left: 0.2em;position: relative;}#sk-container-id-3 div.sk-item {position: relative;z-index: 1;}#sk-container-id-3 div.sk-parallel {display: flex;align-items: stretch;justify-content: center;background-color: white;position: relative;}#sk-container-id-3 div.sk-item::before, #sk-container-id-3 div.sk-parallel-item::before {content: \"\";position: absolute;border-left: 1px solid gray;box-sizing: border-box;top: 0;bottom: 0;left: 50%;z-index: -1;}#sk-container-id-3 div.sk-parallel-item {display: flex;flex-direction: column;z-index: 1;position: relative;background-color: white;}#sk-container-id-3 div.sk-parallel-item:first-child::after {align-self: flex-end;width: 50%;}#sk-container-id-3 div.sk-parallel-item:last-child::after {align-self: flex-start;width: 50%;}#sk-container-id-3 div.sk-parallel-item:only-child::after {width: 0;}#sk-container-id-3 div.sk-dashed-wrapped {border: 1px dashed gray;margin: 0 0.4em 0.5em 0.4em;box-sizing: border-box;padding-bottom: 0.4em;background-color: white;}#sk-container-id-3 div.sk-label label {font-family: monospace;font-weight: bold;display: inline-block;line-height: 1.2em;}#sk-container-id-3 div.sk-label-container {text-align: center;}#sk-container-id-3 div.sk-container {/* jupyter's `normalize.less` sets `[hidden] { display: none; }` but bootstrap.min.css set `[hidden] { display: none !important; }` so we also need the `!important` here to be able to override the default hidden behavior on the sphinx rendered scikit-learn.org. See: https://github.com/scikit-learn/scikit-learn/issues/21755 */display: inline-block !important;position: relative;}#sk-container-id-3 div.sk-text-repr-fallback {display: none;}</style><div id=\"sk-container-id-3\" class=\"sk-top-container\"><div class=\"sk-text-repr-fallback\"><pre>Pipeline(steps=[(&#x27;pipeline&#x27;,\n",
              "                 ColumnTransformer(transformers=[(&#x27;num&#x27;,\n",
              "                                                  Pipeline(steps=[(&#x27;imputer&#x27;,\n",
              "                                                                   SimpleImputer(strategy=&#x27;median&#x27;)),\n",
              "                                                                  (&#x27;attribs_adder&#x27;,\n",
              "                                                                   CombinedAttributesAdder()),\n",
              "                                                                  (&#x27;std_scaler&#x27;,\n",
              "                                                                   StandardScaler())]),\n",
              "                                                  [&#x27;Popularity&#x27;, &#x27;danceability&#x27;,\n",
              "                                                   &#x27;energy&#x27;, &#x27;loudness&#x27;,\n",
              "                                                   &#x27;speechiness&#x27;,\n",
              "                                                   &#x27;acousticness&#x27;,\n",
              "                                                   &#x27;instrumentalness&#x27;,\n",
              "                                                   &#x27;valence&#x27;, &#x27;tempo&#x27;,\n",
              "                                                   &#x27;duration_in min/ms&#x27;])])),\n",
              "                (&#x27;rf&#x27;, RandomForestClassifier(n_estimators=1000))])</pre><b>In a Jupyter environment, please rerun this cell to show the HTML representation or trust the notebook. <br />On GitHub, the HTML representation is unable to render, please try loading this page with nbviewer.org.</b></div><div class=\"sk-container\" hidden><div class=\"sk-item sk-dashed-wrapped\"><div class=\"sk-label-container\"><div class=\"sk-label sk-toggleable\"><input class=\"sk-toggleable__control sk-hidden--visually\" id=\"sk-estimator-id-15\" type=\"checkbox\" ><label for=\"sk-estimator-id-15\" class=\"sk-toggleable__label sk-toggleable__label-arrow\">Pipeline</label><div class=\"sk-toggleable__content\"><pre>Pipeline(steps=[(&#x27;pipeline&#x27;,\n",
              "                 ColumnTransformer(transformers=[(&#x27;num&#x27;,\n",
              "                                                  Pipeline(steps=[(&#x27;imputer&#x27;,\n",
              "                                                                   SimpleImputer(strategy=&#x27;median&#x27;)),\n",
              "                                                                  (&#x27;attribs_adder&#x27;,\n",
              "                                                                   CombinedAttributesAdder()),\n",
              "                                                                  (&#x27;std_scaler&#x27;,\n",
              "                                                                   StandardScaler())]),\n",
              "                                                  [&#x27;Popularity&#x27;, &#x27;danceability&#x27;,\n",
              "                                                   &#x27;energy&#x27;, &#x27;loudness&#x27;,\n",
              "                                                   &#x27;speechiness&#x27;,\n",
              "                                                   &#x27;acousticness&#x27;,\n",
              "                                                   &#x27;instrumentalness&#x27;,\n",
              "                                                   &#x27;valence&#x27;, &#x27;tempo&#x27;,\n",
              "                                                   &#x27;duration_in min/ms&#x27;])])),\n",
              "                (&#x27;rf&#x27;, RandomForestClassifier(n_estimators=1000))])</pre></div></div></div><div class=\"sk-serial\"><div class=\"sk-item sk-dashed-wrapped\"><div class=\"sk-label-container\"><div class=\"sk-label sk-toggleable\"><input class=\"sk-toggleable__control sk-hidden--visually\" id=\"sk-estimator-id-16\" type=\"checkbox\" ><label for=\"sk-estimator-id-16\" class=\"sk-toggleable__label sk-toggleable__label-arrow\">pipeline: ColumnTransformer</label><div class=\"sk-toggleable__content\"><pre>ColumnTransformer(transformers=[(&#x27;num&#x27;,\n",
              "                                 Pipeline(steps=[(&#x27;imputer&#x27;,\n",
              "                                                  SimpleImputer(strategy=&#x27;median&#x27;)),\n",
              "                                                 (&#x27;attribs_adder&#x27;,\n",
              "                                                  CombinedAttributesAdder()),\n",
              "                                                 (&#x27;std_scaler&#x27;,\n",
              "                                                  StandardScaler())]),\n",
              "                                 [&#x27;Popularity&#x27;, &#x27;danceability&#x27;, &#x27;energy&#x27;,\n",
              "                                  &#x27;loudness&#x27;, &#x27;speechiness&#x27;, &#x27;acousticness&#x27;,\n",
              "                                  &#x27;instrumentalness&#x27;, &#x27;valence&#x27;, &#x27;tempo&#x27;,\n",
              "                                  &#x27;duration_in min/ms&#x27;])])</pre></div></div></div><div class=\"sk-parallel\"><div class=\"sk-parallel-item\"><div class=\"sk-item\"><div class=\"sk-label-container\"><div class=\"sk-label sk-toggleable\"><input class=\"sk-toggleable__control sk-hidden--visually\" id=\"sk-estimator-id-17\" type=\"checkbox\" ><label for=\"sk-estimator-id-17\" class=\"sk-toggleable__label sk-toggleable__label-arrow\">num</label><div class=\"sk-toggleable__content\"><pre>[&#x27;Popularity&#x27;, &#x27;danceability&#x27;, &#x27;energy&#x27;, &#x27;loudness&#x27;, &#x27;speechiness&#x27;, &#x27;acousticness&#x27;, &#x27;instrumentalness&#x27;, &#x27;valence&#x27;, &#x27;tempo&#x27;, &#x27;duration_in min/ms&#x27;]</pre></div></div></div><div class=\"sk-serial\"><div class=\"sk-item\"><div class=\"sk-serial\"><div class=\"sk-item\"><div class=\"sk-estimator sk-toggleable\"><input class=\"sk-toggleable__control sk-hidden--visually\" id=\"sk-estimator-id-18\" type=\"checkbox\" ><label for=\"sk-estimator-id-18\" class=\"sk-toggleable__label sk-toggleable__label-arrow\">SimpleImputer</label><div class=\"sk-toggleable__content\"><pre>SimpleImputer(strategy=&#x27;median&#x27;)</pre></div></div></div><div class=\"sk-item\"><div class=\"sk-estimator sk-toggleable\"><input class=\"sk-toggleable__control sk-hidden--visually\" id=\"sk-estimator-id-19\" type=\"checkbox\" ><label for=\"sk-estimator-id-19\" class=\"sk-toggleable__label sk-toggleable__label-arrow\">CombinedAttributesAdder</label><div class=\"sk-toggleable__content\"><pre>CombinedAttributesAdder()</pre></div></div></div><div class=\"sk-item\"><div class=\"sk-estimator sk-toggleable\"><input class=\"sk-toggleable__control sk-hidden--visually\" id=\"sk-estimator-id-20\" type=\"checkbox\" ><label for=\"sk-estimator-id-20\" class=\"sk-toggleable__label sk-toggleable__label-arrow\">StandardScaler</label><div class=\"sk-toggleable__content\"><pre>StandardScaler()</pre></div></div></div></div></div></div></div></div></div></div><div class=\"sk-item\"><div class=\"sk-estimator sk-toggleable\"><input class=\"sk-toggleable__control sk-hidden--visually\" id=\"sk-estimator-id-21\" type=\"checkbox\" ><label for=\"sk-estimator-id-21\" class=\"sk-toggleable__label sk-toggleable__label-arrow\">RandomForestClassifier</label><div class=\"sk-toggleable__content\"><pre>RandomForestClassifier(n_estimators=1000)</pre></div></div></div></div></div></div></div>"
            ]
          },
          "metadata": {},
          "execution_count": 12
        }
      ],
      "source": [
        "#random forest\n",
        "rf=Pipeline([('pipeline',full_pipeline),\n",
        "              ('rf',RandomForestClassifier(n_estimators=1000))])\n",
        "rf.fit(x_train,y_train)"
      ]
    },
    {
      "cell_type": "code",
      "execution_count": null,
      "metadata": {
        "id": "a6OyvvOzi8Dq"
      },
      "outputs": [],
      "source": [
        "#xgb\n",
        "xgb=Pipeline([('pipeline',full_pipeline),\n",
        "              ('xgb',XGBClassifier())])\n",
        "xgb.fit(x_train,y_train)"
      ]
    },
    {
      "cell_type": "code",
      "execution_count": null,
      "metadata": {
        "id": "JBdm_ZCLjNMr",
        "colab": {
          "base_uri": "https://localhost:8080/",
          "height": 262
        },
        "outputId": "3b8b8849-97cb-4c81-decf-1ec5b31a6d2e"
      },
      "outputs": [
        {
          "output_type": "execute_result",
          "data": {
            "text/plain": [
              "Pipeline(steps=[('pipeline',\n",
              "                 ColumnTransformer(transformers=[('num',\n",
              "                                                  Pipeline(steps=[('imputer',\n",
              "                                                                   SimpleImputer(strategy='median')),\n",
              "                                                                  ('attribs_adder',\n",
              "                                                                   CombinedAttributesAdder()),\n",
              "                                                                  ('std_scaler',\n",
              "                                                                   StandardScaler())]),\n",
              "                                                  ['Popularity', 'danceability',\n",
              "                                                   'energy', 'loudness',\n",
              "                                                   'speechiness',\n",
              "                                                   'acousticness',\n",
              "                                                   'instrumentalness',\n",
              "                                                   'valence', 'tempo',\n",
              "                                                   'duration_in min/ms'])])),\n",
              "                ('sgd', SGDClassifier())])"
            ],
            "text/html": [
              "<style>#sk-container-id-2 {color: black;background-color: white;}#sk-container-id-2 pre{padding: 0;}#sk-container-id-2 div.sk-toggleable {background-color: white;}#sk-container-id-2 label.sk-toggleable__label {cursor: pointer;display: block;width: 100%;margin-bottom: 0;padding: 0.3em;box-sizing: border-box;text-align: center;}#sk-container-id-2 label.sk-toggleable__label-arrow:before {content: \"▸\";float: left;margin-right: 0.25em;color: #696969;}#sk-container-id-2 label.sk-toggleable__label-arrow:hover:before {color: black;}#sk-container-id-2 div.sk-estimator:hover label.sk-toggleable__label-arrow:before {color: black;}#sk-container-id-2 div.sk-toggleable__content {max-height: 0;max-width: 0;overflow: hidden;text-align: left;background-color: #f0f8ff;}#sk-container-id-2 div.sk-toggleable__content pre {margin: 0.2em;color: black;border-radius: 0.25em;background-color: #f0f8ff;}#sk-container-id-2 input.sk-toggleable__control:checked~div.sk-toggleable__content {max-height: 200px;max-width: 100%;overflow: auto;}#sk-container-id-2 input.sk-toggleable__control:checked~label.sk-toggleable__label-arrow:before {content: \"▾\";}#sk-container-id-2 div.sk-estimator input.sk-toggleable__control:checked~label.sk-toggleable__label {background-color: #d4ebff;}#sk-container-id-2 div.sk-label input.sk-toggleable__control:checked~label.sk-toggleable__label {background-color: #d4ebff;}#sk-container-id-2 input.sk-hidden--visually {border: 0;clip: rect(1px 1px 1px 1px);clip: rect(1px, 1px, 1px, 1px);height: 1px;margin: -1px;overflow: hidden;padding: 0;position: absolute;width: 1px;}#sk-container-id-2 div.sk-estimator {font-family: monospace;background-color: #f0f8ff;border: 1px dotted black;border-radius: 0.25em;box-sizing: border-box;margin-bottom: 0.5em;}#sk-container-id-2 div.sk-estimator:hover {background-color: #d4ebff;}#sk-container-id-2 div.sk-parallel-item::after {content: \"\";width: 100%;border-bottom: 1px solid gray;flex-grow: 1;}#sk-container-id-2 div.sk-label:hover label.sk-toggleable__label {background-color: #d4ebff;}#sk-container-id-2 div.sk-serial::before {content: \"\";position: absolute;border-left: 1px solid gray;box-sizing: border-box;top: 0;bottom: 0;left: 50%;z-index: 0;}#sk-container-id-2 div.sk-serial {display: flex;flex-direction: column;align-items: center;background-color: white;padding-right: 0.2em;padding-left: 0.2em;position: relative;}#sk-container-id-2 div.sk-item {position: relative;z-index: 1;}#sk-container-id-2 div.sk-parallel {display: flex;align-items: stretch;justify-content: center;background-color: white;position: relative;}#sk-container-id-2 div.sk-item::before, #sk-container-id-2 div.sk-parallel-item::before {content: \"\";position: absolute;border-left: 1px solid gray;box-sizing: border-box;top: 0;bottom: 0;left: 50%;z-index: -1;}#sk-container-id-2 div.sk-parallel-item {display: flex;flex-direction: column;z-index: 1;position: relative;background-color: white;}#sk-container-id-2 div.sk-parallel-item:first-child::after {align-self: flex-end;width: 50%;}#sk-container-id-2 div.sk-parallel-item:last-child::after {align-self: flex-start;width: 50%;}#sk-container-id-2 div.sk-parallel-item:only-child::after {width: 0;}#sk-container-id-2 div.sk-dashed-wrapped {border: 1px dashed gray;margin: 0 0.4em 0.5em 0.4em;box-sizing: border-box;padding-bottom: 0.4em;background-color: white;}#sk-container-id-2 div.sk-label label {font-family: monospace;font-weight: bold;display: inline-block;line-height: 1.2em;}#sk-container-id-2 div.sk-label-container {text-align: center;}#sk-container-id-2 div.sk-container {/* jupyter's `normalize.less` sets `[hidden] { display: none; }` but bootstrap.min.css set `[hidden] { display: none !important; }` so we also need the `!important` here to be able to override the default hidden behavior on the sphinx rendered scikit-learn.org. See: https://github.com/scikit-learn/scikit-learn/issues/21755 */display: inline-block !important;position: relative;}#sk-container-id-2 div.sk-text-repr-fallback {display: none;}</style><div id=\"sk-container-id-2\" class=\"sk-top-container\"><div class=\"sk-text-repr-fallback\"><pre>Pipeline(steps=[(&#x27;pipeline&#x27;,\n",
              "                 ColumnTransformer(transformers=[(&#x27;num&#x27;,\n",
              "                                                  Pipeline(steps=[(&#x27;imputer&#x27;,\n",
              "                                                                   SimpleImputer(strategy=&#x27;median&#x27;)),\n",
              "                                                                  (&#x27;attribs_adder&#x27;,\n",
              "                                                                   CombinedAttributesAdder()),\n",
              "                                                                  (&#x27;std_scaler&#x27;,\n",
              "                                                                   StandardScaler())]),\n",
              "                                                  [&#x27;Popularity&#x27;, &#x27;danceability&#x27;,\n",
              "                                                   &#x27;energy&#x27;, &#x27;loudness&#x27;,\n",
              "                                                   &#x27;speechiness&#x27;,\n",
              "                                                   &#x27;acousticness&#x27;,\n",
              "                                                   &#x27;instrumentalness&#x27;,\n",
              "                                                   &#x27;valence&#x27;, &#x27;tempo&#x27;,\n",
              "                                                   &#x27;duration_in min/ms&#x27;])])),\n",
              "                (&#x27;sgd&#x27;, SGDClassifier())])</pre><b>In a Jupyter environment, please rerun this cell to show the HTML representation or trust the notebook. <br />On GitHub, the HTML representation is unable to render, please try loading this page with nbviewer.org.</b></div><div class=\"sk-container\" hidden><div class=\"sk-item sk-dashed-wrapped\"><div class=\"sk-label-container\"><div class=\"sk-label sk-toggleable\"><input class=\"sk-toggleable__control sk-hidden--visually\" id=\"sk-estimator-id-8\" type=\"checkbox\" ><label for=\"sk-estimator-id-8\" class=\"sk-toggleable__label sk-toggleable__label-arrow\">Pipeline</label><div class=\"sk-toggleable__content\"><pre>Pipeline(steps=[(&#x27;pipeline&#x27;,\n",
              "                 ColumnTransformer(transformers=[(&#x27;num&#x27;,\n",
              "                                                  Pipeline(steps=[(&#x27;imputer&#x27;,\n",
              "                                                                   SimpleImputer(strategy=&#x27;median&#x27;)),\n",
              "                                                                  (&#x27;attribs_adder&#x27;,\n",
              "                                                                   CombinedAttributesAdder()),\n",
              "                                                                  (&#x27;std_scaler&#x27;,\n",
              "                                                                   StandardScaler())]),\n",
              "                                                  [&#x27;Popularity&#x27;, &#x27;danceability&#x27;,\n",
              "                                                   &#x27;energy&#x27;, &#x27;loudness&#x27;,\n",
              "                                                   &#x27;speechiness&#x27;,\n",
              "                                                   &#x27;acousticness&#x27;,\n",
              "                                                   &#x27;instrumentalness&#x27;,\n",
              "                                                   &#x27;valence&#x27;, &#x27;tempo&#x27;,\n",
              "                                                   &#x27;duration_in min/ms&#x27;])])),\n",
              "                (&#x27;sgd&#x27;, SGDClassifier())])</pre></div></div></div><div class=\"sk-serial\"><div class=\"sk-item sk-dashed-wrapped\"><div class=\"sk-label-container\"><div class=\"sk-label sk-toggleable\"><input class=\"sk-toggleable__control sk-hidden--visually\" id=\"sk-estimator-id-9\" type=\"checkbox\" ><label for=\"sk-estimator-id-9\" class=\"sk-toggleable__label sk-toggleable__label-arrow\">pipeline: ColumnTransformer</label><div class=\"sk-toggleable__content\"><pre>ColumnTransformer(transformers=[(&#x27;num&#x27;,\n",
              "                                 Pipeline(steps=[(&#x27;imputer&#x27;,\n",
              "                                                  SimpleImputer(strategy=&#x27;median&#x27;)),\n",
              "                                                 (&#x27;attribs_adder&#x27;,\n",
              "                                                  CombinedAttributesAdder()),\n",
              "                                                 (&#x27;std_scaler&#x27;,\n",
              "                                                  StandardScaler())]),\n",
              "                                 [&#x27;Popularity&#x27;, &#x27;danceability&#x27;, &#x27;energy&#x27;,\n",
              "                                  &#x27;loudness&#x27;, &#x27;speechiness&#x27;, &#x27;acousticness&#x27;,\n",
              "                                  &#x27;instrumentalness&#x27;, &#x27;valence&#x27;, &#x27;tempo&#x27;,\n",
              "                                  &#x27;duration_in min/ms&#x27;])])</pre></div></div></div><div class=\"sk-parallel\"><div class=\"sk-parallel-item\"><div class=\"sk-item\"><div class=\"sk-label-container\"><div class=\"sk-label sk-toggleable\"><input class=\"sk-toggleable__control sk-hidden--visually\" id=\"sk-estimator-id-10\" type=\"checkbox\" ><label for=\"sk-estimator-id-10\" class=\"sk-toggleable__label sk-toggleable__label-arrow\">num</label><div class=\"sk-toggleable__content\"><pre>[&#x27;Popularity&#x27;, &#x27;danceability&#x27;, &#x27;energy&#x27;, &#x27;loudness&#x27;, &#x27;speechiness&#x27;, &#x27;acousticness&#x27;, &#x27;instrumentalness&#x27;, &#x27;valence&#x27;, &#x27;tempo&#x27;, &#x27;duration_in min/ms&#x27;]</pre></div></div></div><div class=\"sk-serial\"><div class=\"sk-item\"><div class=\"sk-serial\"><div class=\"sk-item\"><div class=\"sk-estimator sk-toggleable\"><input class=\"sk-toggleable__control sk-hidden--visually\" id=\"sk-estimator-id-11\" type=\"checkbox\" ><label for=\"sk-estimator-id-11\" class=\"sk-toggleable__label sk-toggleable__label-arrow\">SimpleImputer</label><div class=\"sk-toggleable__content\"><pre>SimpleImputer(strategy=&#x27;median&#x27;)</pre></div></div></div><div class=\"sk-item\"><div class=\"sk-estimator sk-toggleable\"><input class=\"sk-toggleable__control sk-hidden--visually\" id=\"sk-estimator-id-12\" type=\"checkbox\" ><label for=\"sk-estimator-id-12\" class=\"sk-toggleable__label sk-toggleable__label-arrow\">CombinedAttributesAdder</label><div class=\"sk-toggleable__content\"><pre>CombinedAttributesAdder()</pre></div></div></div><div class=\"sk-item\"><div class=\"sk-estimator sk-toggleable\"><input class=\"sk-toggleable__control sk-hidden--visually\" id=\"sk-estimator-id-13\" type=\"checkbox\" ><label for=\"sk-estimator-id-13\" class=\"sk-toggleable__label sk-toggleable__label-arrow\">StandardScaler</label><div class=\"sk-toggleable__content\"><pre>StandardScaler()</pre></div></div></div></div></div></div></div></div></div></div><div class=\"sk-item\"><div class=\"sk-estimator sk-toggleable\"><input class=\"sk-toggleable__control sk-hidden--visually\" id=\"sk-estimator-id-14\" type=\"checkbox\" ><label for=\"sk-estimator-id-14\" class=\"sk-toggleable__label sk-toggleable__label-arrow\">SGDClassifier</label><div class=\"sk-toggleable__content\"><pre>SGDClassifier()</pre></div></div></div></div></div></div></div>"
            ]
          },
          "metadata": {},
          "execution_count": 11
        }
      ],
      "source": [
        "#sgd\n",
        "sgd=Pipeline([('pipeline',full_pipeline),\n",
        "              ('sgd',SGDClassifier())])\n",
        "sgd.fit(x_train,y_train)"
      ]
    },
    {
      "cell_type": "code",
      "execution_count": null,
      "metadata": {
        "id": "_5I9CTaIJzr_",
        "colab": {
          "base_uri": "https://localhost:8080/",
          "height": 262
        },
        "outputId": "2cd25609-5e56-4071-a50e-656005450257"
      },
      "outputs": [
        {
          "output_type": "execute_result",
          "data": {
            "text/plain": [
              "Pipeline(steps=[('pipeline',\n",
              "                 ColumnTransformer(transformers=[('num',\n",
              "                                                  Pipeline(steps=[('imputer',\n",
              "                                                                   SimpleImputer(strategy='median')),\n",
              "                                                                  ('attribs_adder',\n",
              "                                                                   CombinedAttributesAdder()),\n",
              "                                                                  ('std_scaler',\n",
              "                                                                   StandardScaler())]),\n",
              "                                                  ['Popularity', 'danceability',\n",
              "                                                   'energy', 'loudness',\n",
              "                                                   'speechiness',\n",
              "                                                   'acousticness',\n",
              "                                                   'instrumentalness',\n",
              "                                                   'valence', 'tempo',\n",
              "                                                   'duration_in min/ms'])])),\n",
              "                ('gr', GradientBoostingClassifier(n_estimators=1000))])"
            ],
            "text/html": [
              "<style>#sk-container-id-1 {color: black;background-color: white;}#sk-container-id-1 pre{padding: 0;}#sk-container-id-1 div.sk-toggleable {background-color: white;}#sk-container-id-1 label.sk-toggleable__label {cursor: pointer;display: block;width: 100%;margin-bottom: 0;padding: 0.3em;box-sizing: border-box;text-align: center;}#sk-container-id-1 label.sk-toggleable__label-arrow:before {content: \"▸\";float: left;margin-right: 0.25em;color: #696969;}#sk-container-id-1 label.sk-toggleable__label-arrow:hover:before {color: black;}#sk-container-id-1 div.sk-estimator:hover label.sk-toggleable__label-arrow:before {color: black;}#sk-container-id-1 div.sk-toggleable__content {max-height: 0;max-width: 0;overflow: hidden;text-align: left;background-color: #f0f8ff;}#sk-container-id-1 div.sk-toggleable__content pre {margin: 0.2em;color: black;border-radius: 0.25em;background-color: #f0f8ff;}#sk-container-id-1 input.sk-toggleable__control:checked~div.sk-toggleable__content {max-height: 200px;max-width: 100%;overflow: auto;}#sk-container-id-1 input.sk-toggleable__control:checked~label.sk-toggleable__label-arrow:before {content: \"▾\";}#sk-container-id-1 div.sk-estimator input.sk-toggleable__control:checked~label.sk-toggleable__label {background-color: #d4ebff;}#sk-container-id-1 div.sk-label input.sk-toggleable__control:checked~label.sk-toggleable__label {background-color: #d4ebff;}#sk-container-id-1 input.sk-hidden--visually {border: 0;clip: rect(1px 1px 1px 1px);clip: rect(1px, 1px, 1px, 1px);height: 1px;margin: -1px;overflow: hidden;padding: 0;position: absolute;width: 1px;}#sk-container-id-1 div.sk-estimator {font-family: monospace;background-color: #f0f8ff;border: 1px dotted black;border-radius: 0.25em;box-sizing: border-box;margin-bottom: 0.5em;}#sk-container-id-1 div.sk-estimator:hover {background-color: #d4ebff;}#sk-container-id-1 div.sk-parallel-item::after {content: \"\";width: 100%;border-bottom: 1px solid gray;flex-grow: 1;}#sk-container-id-1 div.sk-label:hover label.sk-toggleable__label {background-color: #d4ebff;}#sk-container-id-1 div.sk-serial::before {content: \"\";position: absolute;border-left: 1px solid gray;box-sizing: border-box;top: 0;bottom: 0;left: 50%;z-index: 0;}#sk-container-id-1 div.sk-serial {display: flex;flex-direction: column;align-items: center;background-color: white;padding-right: 0.2em;padding-left: 0.2em;position: relative;}#sk-container-id-1 div.sk-item {position: relative;z-index: 1;}#sk-container-id-1 div.sk-parallel {display: flex;align-items: stretch;justify-content: center;background-color: white;position: relative;}#sk-container-id-1 div.sk-item::before, #sk-container-id-1 div.sk-parallel-item::before {content: \"\";position: absolute;border-left: 1px solid gray;box-sizing: border-box;top: 0;bottom: 0;left: 50%;z-index: -1;}#sk-container-id-1 div.sk-parallel-item {display: flex;flex-direction: column;z-index: 1;position: relative;background-color: white;}#sk-container-id-1 div.sk-parallel-item:first-child::after {align-self: flex-end;width: 50%;}#sk-container-id-1 div.sk-parallel-item:last-child::after {align-self: flex-start;width: 50%;}#sk-container-id-1 div.sk-parallel-item:only-child::after {width: 0;}#sk-container-id-1 div.sk-dashed-wrapped {border: 1px dashed gray;margin: 0 0.4em 0.5em 0.4em;box-sizing: border-box;padding-bottom: 0.4em;background-color: white;}#sk-container-id-1 div.sk-label label {font-family: monospace;font-weight: bold;display: inline-block;line-height: 1.2em;}#sk-container-id-1 div.sk-label-container {text-align: center;}#sk-container-id-1 div.sk-container {/* jupyter's `normalize.less` sets `[hidden] { display: none; }` but bootstrap.min.css set `[hidden] { display: none !important; }` so we also need the `!important` here to be able to override the default hidden behavior on the sphinx rendered scikit-learn.org. See: https://github.com/scikit-learn/scikit-learn/issues/21755 */display: inline-block !important;position: relative;}#sk-container-id-1 div.sk-text-repr-fallback {display: none;}</style><div id=\"sk-container-id-1\" class=\"sk-top-container\"><div class=\"sk-text-repr-fallback\"><pre>Pipeline(steps=[(&#x27;pipeline&#x27;,\n",
              "                 ColumnTransformer(transformers=[(&#x27;num&#x27;,\n",
              "                                                  Pipeline(steps=[(&#x27;imputer&#x27;,\n",
              "                                                                   SimpleImputer(strategy=&#x27;median&#x27;)),\n",
              "                                                                  (&#x27;attribs_adder&#x27;,\n",
              "                                                                   CombinedAttributesAdder()),\n",
              "                                                                  (&#x27;std_scaler&#x27;,\n",
              "                                                                   StandardScaler())]),\n",
              "                                                  [&#x27;Popularity&#x27;, &#x27;danceability&#x27;,\n",
              "                                                   &#x27;energy&#x27;, &#x27;loudness&#x27;,\n",
              "                                                   &#x27;speechiness&#x27;,\n",
              "                                                   &#x27;acousticness&#x27;,\n",
              "                                                   &#x27;instrumentalness&#x27;,\n",
              "                                                   &#x27;valence&#x27;, &#x27;tempo&#x27;,\n",
              "                                                   &#x27;duration_in min/ms&#x27;])])),\n",
              "                (&#x27;gr&#x27;, GradientBoostingClassifier(n_estimators=1000))])</pre><b>In a Jupyter environment, please rerun this cell to show the HTML representation or trust the notebook. <br />On GitHub, the HTML representation is unable to render, please try loading this page with nbviewer.org.</b></div><div class=\"sk-container\" hidden><div class=\"sk-item sk-dashed-wrapped\"><div class=\"sk-label-container\"><div class=\"sk-label sk-toggleable\"><input class=\"sk-toggleable__control sk-hidden--visually\" id=\"sk-estimator-id-1\" type=\"checkbox\" ><label for=\"sk-estimator-id-1\" class=\"sk-toggleable__label sk-toggleable__label-arrow\">Pipeline</label><div class=\"sk-toggleable__content\"><pre>Pipeline(steps=[(&#x27;pipeline&#x27;,\n",
              "                 ColumnTransformer(transformers=[(&#x27;num&#x27;,\n",
              "                                                  Pipeline(steps=[(&#x27;imputer&#x27;,\n",
              "                                                                   SimpleImputer(strategy=&#x27;median&#x27;)),\n",
              "                                                                  (&#x27;attribs_adder&#x27;,\n",
              "                                                                   CombinedAttributesAdder()),\n",
              "                                                                  (&#x27;std_scaler&#x27;,\n",
              "                                                                   StandardScaler())]),\n",
              "                                                  [&#x27;Popularity&#x27;, &#x27;danceability&#x27;,\n",
              "                                                   &#x27;energy&#x27;, &#x27;loudness&#x27;,\n",
              "                                                   &#x27;speechiness&#x27;,\n",
              "                                                   &#x27;acousticness&#x27;,\n",
              "                                                   &#x27;instrumentalness&#x27;,\n",
              "                                                   &#x27;valence&#x27;, &#x27;tempo&#x27;,\n",
              "                                                   &#x27;duration_in min/ms&#x27;])])),\n",
              "                (&#x27;gr&#x27;, GradientBoostingClassifier(n_estimators=1000))])</pre></div></div></div><div class=\"sk-serial\"><div class=\"sk-item sk-dashed-wrapped\"><div class=\"sk-label-container\"><div class=\"sk-label sk-toggleable\"><input class=\"sk-toggleable__control sk-hidden--visually\" id=\"sk-estimator-id-2\" type=\"checkbox\" ><label for=\"sk-estimator-id-2\" class=\"sk-toggleable__label sk-toggleable__label-arrow\">pipeline: ColumnTransformer</label><div class=\"sk-toggleable__content\"><pre>ColumnTransformer(transformers=[(&#x27;num&#x27;,\n",
              "                                 Pipeline(steps=[(&#x27;imputer&#x27;,\n",
              "                                                  SimpleImputer(strategy=&#x27;median&#x27;)),\n",
              "                                                 (&#x27;attribs_adder&#x27;,\n",
              "                                                  CombinedAttributesAdder()),\n",
              "                                                 (&#x27;std_scaler&#x27;,\n",
              "                                                  StandardScaler())]),\n",
              "                                 [&#x27;Popularity&#x27;, &#x27;danceability&#x27;, &#x27;energy&#x27;,\n",
              "                                  &#x27;loudness&#x27;, &#x27;speechiness&#x27;, &#x27;acousticness&#x27;,\n",
              "                                  &#x27;instrumentalness&#x27;, &#x27;valence&#x27;, &#x27;tempo&#x27;,\n",
              "                                  &#x27;duration_in min/ms&#x27;])])</pre></div></div></div><div class=\"sk-parallel\"><div class=\"sk-parallel-item\"><div class=\"sk-item\"><div class=\"sk-label-container\"><div class=\"sk-label sk-toggleable\"><input class=\"sk-toggleable__control sk-hidden--visually\" id=\"sk-estimator-id-3\" type=\"checkbox\" ><label for=\"sk-estimator-id-3\" class=\"sk-toggleable__label sk-toggleable__label-arrow\">num</label><div class=\"sk-toggleable__content\"><pre>[&#x27;Popularity&#x27;, &#x27;danceability&#x27;, &#x27;energy&#x27;, &#x27;loudness&#x27;, &#x27;speechiness&#x27;, &#x27;acousticness&#x27;, &#x27;instrumentalness&#x27;, &#x27;valence&#x27;, &#x27;tempo&#x27;, &#x27;duration_in min/ms&#x27;]</pre></div></div></div><div class=\"sk-serial\"><div class=\"sk-item\"><div class=\"sk-serial\"><div class=\"sk-item\"><div class=\"sk-estimator sk-toggleable\"><input class=\"sk-toggleable__control sk-hidden--visually\" id=\"sk-estimator-id-4\" type=\"checkbox\" ><label for=\"sk-estimator-id-4\" class=\"sk-toggleable__label sk-toggleable__label-arrow\">SimpleImputer</label><div class=\"sk-toggleable__content\"><pre>SimpleImputer(strategy=&#x27;median&#x27;)</pre></div></div></div><div class=\"sk-item\"><div class=\"sk-estimator sk-toggleable\"><input class=\"sk-toggleable__control sk-hidden--visually\" id=\"sk-estimator-id-5\" type=\"checkbox\" ><label for=\"sk-estimator-id-5\" class=\"sk-toggleable__label sk-toggleable__label-arrow\">CombinedAttributesAdder</label><div class=\"sk-toggleable__content\"><pre>CombinedAttributesAdder()</pre></div></div></div><div class=\"sk-item\"><div class=\"sk-estimator sk-toggleable\"><input class=\"sk-toggleable__control sk-hidden--visually\" id=\"sk-estimator-id-6\" type=\"checkbox\" ><label for=\"sk-estimator-id-6\" class=\"sk-toggleable__label sk-toggleable__label-arrow\">StandardScaler</label><div class=\"sk-toggleable__content\"><pre>StandardScaler()</pre></div></div></div></div></div></div></div></div></div></div><div class=\"sk-item\"><div class=\"sk-estimator sk-toggleable\"><input class=\"sk-toggleable__control sk-hidden--visually\" id=\"sk-estimator-id-7\" type=\"checkbox\" ><label for=\"sk-estimator-id-7\" class=\"sk-toggleable__label sk-toggleable__label-arrow\">GradientBoostingClassifier</label><div class=\"sk-toggleable__content\"><pre>GradientBoostingClassifier(n_estimators=1000)</pre></div></div></div></div></div></div></div>"
            ]
          },
          "metadata": {},
          "execution_count": 10
        }
      ],
      "source": [
        "param_grid = {\n",
        "    \"loss\": [\"log_loss\"],\n",
        "    \"learning_rate\": [0.1],\n",
        "    \"n_estimators\": [1000],\n",
        "    \"min_samples_split\": [3],\n",
        "    \"min_samples_leaf\":[5],\n",
        "    \"criterion\":[\"friedman_mse\"],\n",
        "    \"max_depth\":[3],\n",
        "    \"random_state\":[42],\n",
        "    \"max_features\":[\"sqrt\"]\n",
        "}\n",
        "gr =Pipeline([('pipeline',full_pipeline),\n",
        "              ('gr',GradientBoostingClassifier(n_estimators=1000))])\n",
        "gr.fit(x_train,y_train)"
      ]
    },
    {
      "cell_type": "markdown",
      "metadata": {
        "id": "w4YTZ9_BCIY6"
      },
      "source": [
        "#Fine Tuning the model"
      ]
    },
    {
      "cell_type": "code",
      "execution_count": null,
      "metadata": {
        "id": "6SgloUKjCMbp"
      },
      "outputs": [],
      "source": [
        "solvers = ['newton-cg', 'lbfgs', 'liblinear']#Algorithm to use in the optimization problem.\n",
        "penalty = ['l2']#Regularization, squre magnitude\n",
        "c_values = [100, 200, 1.0, 0.1, 0.01]#strength of the penality\n",
        "grid = {'logistic_regression__solver':solvers,'logistic_regression__penalty':penalty,'logistic_regression__C':c_values}\n",
        "cv = RepeatedStratifiedKFold(n_splits=10, n_repeats=3, random_state=1)\n",
        "grid_search = GridSearchCV(estimator=logistic_regression, param_grid=grid, n_jobs=-1, cv=cv, scoring='accuracy',error_score=0)\n",
        "grid_result = grid_search.fit(x_train,y_train)"
      ]
    },
    {
      "cell_type": "code",
      "execution_count": null,
      "metadata": {
        "id": "UkXcmPztTSpc"
      },
      "outputs": [],
      "source": [
        "grid_result.best_estimator_"
      ]
    },
    {
      "cell_type": "code",
      "execution_count": null,
      "metadata": {
        "id": "iYCpxB1uJZSM"
      },
      "outputs": [],
      "source": [
        "n_neighbors = range(1, 30, 2)\n",
        "weights = ['uniform', 'distance']\n",
        "metric = ['euclidean', 'manhattan', 'minkowski']\n",
        "knn_grid = {'knn__n_neighbors':n_neighbors,\n",
        "            'knn__weights':weights,\n",
        "            'knn__metric':metric}\n",
        "knn_grid_search = GridSearchCV(estimator=knn, param_grid=knn_grid, n_jobs=-1, cv=cv, scoring='accuracy',error_score=0)\n",
        "y_train"
      ]
    },
    {
      "cell_type": "code",
      "execution_count": null,
      "metadata": {
        "id": "AVDwtuRzY7gr"
      },
      "outputs": [],
      "source": [
        "knn_grid_result.best_estimator_\n",
        "#metric='manhattan', n_neighbors=19"
      ]
    },
    {
      "cell_type": "code",
      "execution_count": null,
      "metadata": {
        "id": "fxvmPwH-JrXE"
      },
      "outputs": [],
      "source": [
        "++++n_estimators = [10, 100, 1000]\n",
        "max_features = ['sqrt', 'log2']\n",
        "rf_grid = {'rf__n_estimators':n_estimators,\n",
        "            'rf__max_features':max_features}\n",
        "rf_grid_search = GridSearchCV(estimator=rf, param_grid=rf_grid, n_jobs=-1, cv=cv, scoring='accuracy',error_score=0)\n",
        "rf_grid_result = rf_grid_search.fit(X,y)"
      ]
    },
    {
      "cell_type": "code",
      "execution_count": null,
      "metadata": {
        "id": "clBQxJItZK6A"
      },
      "outputs": [],
      "source": [
        "rf_grid_result.best_estimator_\n",
        "#n_estimators=1000"
      ]
    },
    {
      "cell_type": "code",
      "execution_count": null,
      "metadata": {
        "id": "CCKOHfQmKftP"
      },
      "outputs": [],
      "source": [
        "gamma=[0,0.1,0.3,1.6]\n",
        "learning_rate=[0.01, 0.1,0.3]\n",
        "max_depth=[6,10,14]\n",
        "\n",
        "xgb_grid={'xgb__n_estimators':[200],\n",
        "           'xgb__gamma':gamma,\n",
        "            'xgb__learning_rate':learning_rate,\n",
        "           'xgb__max_depth':max_depth}\n",
        "xgb_grid_search=GridSearchCV(estimator=xgb, param_grid=xgb_grid, n_jobs=-1, cv=cv, scoring='accuracy',error_score=0)\n",
        "xgb_grid_result = xgb_grid_search.fit(X,y)\n"
      ]
    },
    {
      "cell_type": "markdown",
      "metadata": {
        "id": "U17amdh5YEVY"
      },
      "source": [
        "#Save tunned models"
      ]
    },
    {
      "cell_type": "code",
      "execution_count": null,
      "metadata": {
        "id": "mkU0XaAuXVf_"
      },
      "outputs": [],
      "source": [
        "dump(grid_result.best_estimator_, \"./logistic_regression.joblib\")\n",
        "dump(knn_grid_result.best_estimator_, \"./knn.joblib\")\n",
        "dump(rf_grid_result.best_estimator_, \"./random_forest.joblib\")\n",
        "dump(xgb_grid_result.best_estimator_, \"./xgb.joblib\")"
      ]
    },
    {
      "cell_type": "markdown",
      "metadata": {
        "id": "lU-U7WxICQO7"
      },
      "source": [
        "#Ensemble learning"
      ]
    },
    {
      "cell_type": "code",
      "execution_count": null,
      "metadata": {
        "id": "KkLKdlO0-CvG"
      },
      "outputs": [],
      "source": [
        "stacking_rf_gr=StackingClassifier(\n",
        "estimators=[\n",
        "('rf', rf),\n",
        "('gr',gr)\n",
        "]\n",
        ")\n",
        "stacking_rf_gr.fit(x_train,y_train)"
      ]
    },
    {
      "cell_type": "markdown",
      "metadata": {
        "id": "da7wwTmKCTHZ"
      },
      "source": [
        "#Model Evaluation"
      ]
    },
    {
      "cell_type": "code",
      "execution_count": null,
      "metadata": {
        "id": "QfG2nzVgCXN_"
      },
      "outputs": [],
      "source": [
        "from sklearn.model_selection import cross_val_score,cross_val_predict"
      ]
    },
    {
      "cell_type": "code",
      "execution_count": null,
      "metadata": {
        "id": "flaGXjwFj7Vi"
      },
      "outputs": [],
      "source": [
        "def accuracy(model,input_data=x_test,lable=y_test,scoring_='accuracy',cv_=5):\n",
        "  return cross_val_score(model, input_data, lable,\n",
        "                          scoring=scoring_,cv=cv_)"
      ]
    },
    {
      "cell_type": "code",
      "execution_count": null,
      "metadata": {
        "id": "eKipM1RFkQyV"
      },
      "outputs": [],
      "source": [
        "def predict(model,data=x_test,lable=y_test,cv_=3):\n",
        "  return cross_val_predict(model,data,lable,cv=cv_)"
      ]
    },
    {
      "cell_type": "code",
      "execution_count": null,
      "metadata": {
        "id": "6GJc3eLD1g1K"
      },
      "outputs": [],
      "source": [
        "logistic_regression_pred=predict(logistic_regression)\n",
        "ConfusionMatrixDisplay.from_predictions(y_test, logistic_regression_pred,normalize=\"true\",\n",
        "values_format=\".0%\")\n",
        "plt.title('logistic regression')"
      ]
    },
    {
      "cell_type": "code",
      "execution_count": null,
      "metadata": {
        "id": "5fq7wIBjLSar"
      },
      "outputs": [],
      "source": [
        "knn_pred=predict(knn)\n",
        "ConfusionMatrixDisplay.from_predictions(y_test, knn_pred,normalize=\"true\",\n",
        "values_format=\".0%\")\n",
        "plt.title('knn')"
      ]
    },
    {
      "cell_type": "code",
      "execution_count": null,
      "metadata": {
        "id": "BmPzXXT9LX6K"
      },
      "outputs": [],
      "source": [
        "rf_pred=predict(rf)\n",
        "ConfusionMatrixDisplay.from_predictions(y_test, rf_pred,normalize=\"true\",\n",
        "values_format=\".0%\")\n",
        "plt.title('random forest')"
      ]
    },
    {
      "cell_type": "code",
      "execution_count": null,
      "metadata": {
        "id": "nQB4VrSjLZ8P"
      },
      "outputs": [],
      "source": [
        "xgb_pred=predict(xgb)\n",
        "ConfusionMatrixDisplay.from_predictions(y_test, xgb_pred,normalize=\"true\",\n",
        "values_format=\".0%\")\n",
        "plt.title('xgboost')"
      ]
    },
    {
      "cell_type": "code",
      "execution_count": null,
      "metadata": {
        "id": "2WC0ionr58Hb"
      },
      "outputs": [],
      "source": [
        "sgd_pred=predict(sgd)\n",
        "ConfusionMatrixDisplay.from_predictions(y_test, sgd_pred,normalize=\"true\",\n",
        "values_format=\".0%\")\n",
        "plt.title('SGD classifier')"
      ]
    },
    {
      "cell_type": "code",
      "execution_count": null,
      "metadata": {
        "id": "JNFUn44t6BDX"
      },
      "outputs": [],
      "source": [
        "gr_pred=predict(gr)\n",
        "ConfusionMatrixDisplay.from_predictions(y_test, gr_pred,normalize=\"true\",\n",
        "values_format=\".0%\")\n",
        "plt.title('gradient boosting')"
      ]
    },
    {
      "cell_type": "code",
      "execution_count": null,
      "metadata": {
        "id": "X7orvszaRmIZ"
      },
      "outputs": [],
      "source": [
        "voting_rf_gr_pred=predict(voting_rf_gr)\n",
        "ConfusionMatrixDisplay.from_predictions(y_test, voting_rf_gr_pred,normalize=\"true\",\n",
        "values_format=\".0%\")\n",
        "plt.title('voting logistic regression/gradient boosting')"
      ]
    },
    {
      "cell_type": "code",
      "execution_count": null,
      "metadata": {
        "id": "4RVlvRn3RnFF"
      },
      "outputs": [],
      "source": [
        "stacking_rf_gr_pred=predict(stacking_rf_gr)\n",
        "ConfusionMatrixDisplay.from_predictions(y_test, stacking_rf_gr_pred,normalize=\"true\",\n",
        "values_format=\".0%\")\n",
        "plt.title('stacking random forest/gradient boosting')"
      ]
    },
    {
      "cell_type": "code",
      "execution_count": null,
      "metadata": {
        "id": "MHx_SvpGZA3d"
      },
      "outputs": [],
      "source": [
        "#stacking_xgb_gr\n",
        "stacking_xgb_gr_pred=stacking_xgb_gr.predict(X)\n",
        "ConfusionMatrixDisplay.from_predictions(y, stacking_xgb_gr_pred,normalize=\"true\",\n",
        "values_format=\".0%\")\n",
        "plt.title('stacking XGB/gradient boosting')"
      ]
    },
    {
      "cell_type": "code",
      "execution_count": null,
      "metadata": {
        "id": "R7Yt1jgyK38F"
      },
      "outputs": [],
      "source": [
        "\n",
        "model_performance={\n",
        "    'logistic regression':[accuracy_score(y_test,logistic_regression_pred),precision_score(y_test,logistic_regression_pred,average='micro'),recall_score(y_test,logistic_regression_pred,average='micro'),f1_score(y_test,logistic_regression_pred,average='micro')],\n",
        "    'KNN':[accuracy_score(y_test,knn_pred),precision_score(y_test,knn_pred,average='micro'),recall_score(y_test,knn_pred,average='micro'),f1_score(y_test,knn_pred,average='micro')],\n",
        "    'random forest':[accuracy_score(y_test,rf_pred),precision_score(y_test,rf_pred,average='micro'),recall_score(y_test,rf_pred,average='micro'),f1_score(y_test,rf_pred,average='micro')],\n",
        "    'XGB':[accuracy_score(y_test,xgb_pred),precision_score(y_test,xgb_pred,average='micro'),recall_score(y_test,xgb_pred,average='micro'),f1_score(y_test,xgb_pred,average='micro')],\n",
        "    'SGD':[accuracy_score(y_test,sgd_pred),precision_score(y_test,sgd_pred,average='micro'),recall_score(y_test,sgd_pred,average='micro'),f1_score(y_test,sgd_pred,average='micro')],\n",
        "    'Gradient boosting':[accuracy_score(y_test,gr_pred),precision_score(y_test,gr_pred,average='micro'),recall_score(y_test,gr_pred,average='micro'),f1_score(y_test,gr_pred,average='micro')],\n",
        "    'stacking_rf_gr_pred':[accuracy_score(y_test,stacking_rf_gr_pred),precision_score(y_test,stacking_rf_gr_pred,average='micro'),recall_score(y_test,stacking_rf_gr_pred,average='micro'),f1_score(y_test,stacking_rf_gr_pred,average='micro')]\n",
        "\n",
        "}\n",
        "ml = pd.DataFrame(columns=['model name','accuracy','precision','recall','f1'])\n",
        "keys=list(model_performance.keys())\n",
        "for i in range(len(keys)):\n",
        "    ml.loc[i, 'model name'] = keys[i]\n",
        "    ml.loc[i, 'accuracy'] = model_performance[keys[i]][0]\n",
        "    ml.loc[i,'precision']=model_performance[keys[i]][1]\n",
        "    ml.loc[i, 'recall'] = model_performance[keys[i]][2]\n",
        "    ml.loc[i,'f1']=model_performance[keys[i]][3]\n",
        "\n",
        "ml"
      ]
    },
    {
      "cell_type": "markdown",
      "metadata": {
        "id": "8bzr3Bf7Anoz"
      },
      "source": [
        "#Save Results"
      ]
    },
    {
      "cell_type": "code",
      "execution_count": null,
      "metadata": {
        "id": "CCkajZjKFS1Y"
      },
      "outputs": [],
      "source": [
        "test=pd.read_csv('/content/drive/MyDrive/INternship/grad project2/test.csv')"
      ]
    },
    {
      "cell_type": "code",
      "execution_count": null,
      "metadata": {
        "id": "UqlYSNVBHNli"
      },
      "outputs": [],
      "source": [
        "Id=test['Id']\n",
        "test=test.drop(['Id','Artist Name','Track Name','liveness','time_signature','key','mode'],axis=1)\n"
      ]
    },
    {
      "cell_type": "code",
      "execution_count": null,
      "metadata": {
        "id": "J_y6qRitAskV"
      },
      "outputs": [],
      "source": [
        "test=pd.read_csv('/content/drive/MyDrive/INternship/grad project2/test.csv')\n",
        "Id=test['Id']\n",
        "\n",
        "test=test.drop(['Id','Artist Name','Track Name','key', 'mode',\n",
        "       'liveness', 'time_signature'],axis=1)"
      ]
    },
    {
      "cell_type": "code",
      "execution_count": null,
      "metadata": {
        "id": "uMj5GnjvBzEr"
      },
      "outputs": [],
      "source": [
        "pred=stacking_rf_gr.predict(test)\n",
        "stacking_rf_gr_data={'Id': Id, 'Class':pred }\n",
        "\n",
        "sub = pd.DataFrame(data=stacking_rf_gr_data)\n",
        "sub.to_csv('./stacking_rf_gr.csv',index=False)\n",
        "pred"
      ]
    },
    {
      "cell_type": "code",
      "source": [],
      "metadata": {
        "id": "eRsjyWTBMMXy"
      },
      "execution_count": null,
      "outputs": []
    }
  ],
  "metadata": {
    "colab": {
      "collapsed_sections": [
        "mkbIhhh0Axyb",
        "HbtwC67cBtz6",
        "qG8-hmgDBxk8",
        "gaxYhH5XB4nF",
        "vEmrKkaIB6n8",
        "w4YTZ9_BCIY6",
        "U17amdh5YEVY",
        "lU-U7WxICQO7"
      ],
      "provenance": [],
      "mount_file_id": "1fxsfu6JzpL9MKy1oBQnTWbD7OHalcPlZ",
      "authorship_tag": "ABX9TyNixzjvw+YvoVEiHIw0GZhm",
      "include_colab_link": true
    },
    "kernelspec": {
      "display_name": "Python 3",
      "name": "python3"
    },
    "language_info": {
      "name": "python"
    }
  },
  "nbformat": 4,
  "nbformat_minor": 0
}